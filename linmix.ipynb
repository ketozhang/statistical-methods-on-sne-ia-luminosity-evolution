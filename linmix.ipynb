{
 "cells": [
  {
   "cell_type": "raw",
   "metadata": {
    "execution": {
     "iopub.execute_input": "2020-09-11T05:19:33.879848Z",
     "iopub.status.busy": "2020-09-11T05:19:33.879587Z",
     "iopub.status.idle": "2020-09-11T05:19:34.580027Z",
     "shell.execute_reply": "2020-09-11T05:19:34.578889Z",
     "shell.execute_reply.started": "2020-09-11T05:19:33.879821Z"
    }
   },
   "source": [
    "import numpy as np\n",
    "\n",
    "import matplotlib.pyplot as plt\n",
    "from matplotlib.ticker import MultipleLocator, FormatStrFormatter, AutoMinorLocator\n",
    "from matplotlib.lines import Line2D\n",
    "\n",
    "import pandas as pd\n",
    "import linmix\n",
    "from scipy import stats\n",
    "from scipy.optimize import curve_fit\n",
    "from scipy import odr\n"
   ]
  },
  {
   "cell_type": "raw",
   "metadata": {
    "execution": {
     "iopub.execute_input": "2020-09-11T05:19:34.581688Z",
     "iopub.status.busy": "2020-09-11T05:19:34.581475Z",
     "iopub.status.idle": "2020-09-11T05:19:34.604814Z",
     "shell.execute_reply": "2020-09-11T05:19:34.603772Z",
     "shell.execute_reply.started": "2020-09-11T05:19:34.581662Z"
    }
   },
   "source": [
    "data = pd.read_csv('data/HRvsAge_Median+STD+Bounds.csv')\n",
    "data.head(3)"
   ]
  },
  {
   "cell_type": "raw",
   "metadata": {
    "execution": {
     "iopub.execute_input": "2020-09-11T05:19:34.607500Z",
     "iopub.status.busy": "2020-09-11T05:19:34.607030Z",
     "iopub.status.idle": "2020-09-11T05:19:34.615078Z",
     "shell.execute_reply": "2020-09-11T05:19:34.613815Z",
     "shell.execute_reply.started": "2020-09-11T05:19:34.607450Z"
    }
   },
   "source": [
    "# prepare an array for uneven errorbars\n",
    "xerr = np.array([data['Age_median'].values - data['Age_lower'].values ,data['Age_upper'].values - data['Age_median'].values])"
   ]
  },
  {
   "cell_type": "raw",
   "metadata": {
    "execution": {
     "iopub.execute_input": "2020-09-11T05:19:34.617237Z",
     "iopub.status.busy": "2020-09-11T05:19:34.616980Z",
     "iopub.status.idle": "2020-09-11T05:19:35.111806Z",
     "shell.execute_reply": "2020-09-11T05:19:35.110732Z",
     "shell.execute_reply.started": "2020-09-11T05:19:34.617211Z"
    }
   },
   "source": [
    "fig,(ax1,ax2) = plt.subplots(1,2,figsize=(15,7))\n",
    "\n",
    "ax1.errorbar(data['Age_global'],data['HR'],yerr=data['HR_err'],xerr=data['Age_global_err'],fmt='ko',lw=0.5)\n",
    "ax2.errorbar(data['Age_median'],data['HR'],yerr=data['HR_err'],xerr=xerr,fmt='ko',lw=0.5)\n",
    "\n",
    "ax1.set_title('Lee20 Fig.2',fontsize=20)\n",
    "ax2.set_title('Dataset provided by Rose19: non-Gaussian',fontsize=20)\n",
    "for ax in [ax1,ax2]:\n",
    "    ax.set_xlabel('Global Age [Gyr]',fontsize=17)\n",
    "    ax.set_ylabel('Hubble Residual [mag]',fontsize=17)\n",
    "    ax.set_xlim(0,14)\n",
    "    ax.set_ylim(-0.75,0.75)\n",
    "    ax.tick_params(which='major', length=10, direction='in',right=True,top=True)\n",
    "    ax.tick_params(which='minor', length=5, direction='in',right=True,top=True)\n",
    "    ax.xaxis.set_major_locator(MultipleLocator(5))\n",
    "    ax.xaxis.set_minor_locator(MultipleLocator(1))\n",
    "    ax.yaxis.set_major_locator(MultipleLocator(0.5))\n",
    "    ax.yaxis.set_minor_locator(MultipleLocator(0.1))\n",
    "\n",
    "plt.tight_layout()"
   ]
  },
  {
   "cell_type": "raw",
   "metadata": {},
   "source": [
    "## (1-2) MCMC posterior"
   ]
  },
  {
   "cell_type": "raw",
   "metadata": {
    "execution": {
     "iopub.execute_input": "2020-09-11T05:19:35.113170Z",
     "iopub.status.busy": "2020-09-11T05:19:35.112966Z",
     "iopub.status.idle": "2020-09-11T05:19:35.117476Z",
     "shell.execute_reply": "2020-09-11T05:19:35.116333Z",
     "shell.execute_reply.started": "2020-09-11T05:19:35.113144Z"
    }
   },
   "source": [
    "dataset = 'campbell'   # 'gupta' or 'campbell' or 'campbellG'\n",
    "filename = 'data/HRvsAge_samples_campbell10k.csv'"
   ]
  },
  {
   "cell_type": "raw",
   "metadata": {
    "execution": {
     "iopub.execute_input": "2020-09-11T05:19:35.118880Z",
     "iopub.status.busy": "2020-09-11T05:19:35.118638Z",
     "iopub.status.idle": "2020-09-11T05:19:38.121635Z",
     "shell.execute_reply": "2020-09-11T05:19:38.120620Z",
     "shell.execute_reply.started": "2020-09-11T05:19:35.118853Z"
    }
   },
   "source": [
    "samples = pd.read_csv(filename)\n",
    "samples.head(3)"
   ]
  },
  {
   "cell_type": "raw",
   "metadata": {
    "execution": {
     "iopub.execute_input": "2020-09-11T05:19:38.123107Z",
     "iopub.status.busy": "2020-09-11T05:19:38.122848Z",
     "iopub.status.idle": "2020-09-11T05:19:38.172249Z",
     "shell.execute_reply": "2020-09-11T05:19:38.171204Z",
     "shell.execute_reply.started": "2020-09-11T05:19:38.123077Z"
    }
   },
   "source": [
    "num_samples = 10000 # 10k samples\n",
    "length = 103\n",
    "age_columns = ['Age{}'.format(i) for i in range(num_samples)]\n",
    "HR_columns  = ['HR{}'.format(i) for i in range(num_samples)]\n",
    "\n",
    "# put them together\n",
    "Age_all = samples[age_columns].values.flatten()\n",
    "HR_all = samples[HR_columns].values.flatten()"
   ]
  },
  {
   "cell_type": "raw",
   "metadata": {
    "execution": {
     "iopub.execute_input": "2020-09-11T05:19:38.173617Z",
     "iopub.status.busy": "2020-09-11T05:19:38.173398Z",
     "iopub.status.idle": "2020-09-11T05:19:39.586142Z",
     "shell.execute_reply": "2020-09-11T05:19:39.584920Z",
     "shell.execute_reply.started": "2020-09-11T05:19:38.173592Z"
    }
   },
   "source": [
    "Nbins = 300\n",
    "cmap = 'gray_r'\n",
    "x_th = np.linspace(0,14,10)\n",
    "\n",
    "fig,(ax1) = plt.subplots(1,1,figsize=(8,5))\n",
    "\n",
    "# Calculate correlations and slope for all\n",
    "corr = stats.pearsonr(Age_all, HR_all)[0]\n",
    "rank_corr = stats.spearmanr(Age_all, HR_all)[0]\n",
    "popt,_ = curve_fit(lambda x,a,b: a*x+b, Age_all, HR_all)\n",
    "y_th = x_th * popt[0] + popt[1]\n",
    "\n",
    "ax1.plot(x_th,y_th,c='orange', label=f\"best fit slope: {popt[0]:.3f} mag/Gyr\\nPearson Correlation: {corr:.3f}\\nSpearman Correlation: {rank_corr:.3f}\")\n",
    "ax1.hist2d(Age_all, HR_all,bins=Nbins,cmap=cmap)\n",
    "ax1.set_title('All data')\n",
    "\n",
    "\n",
    "for ax in [ax1]:\n",
    "    ax.legend(fontsize=12)\n",
    "    ax.set_xlabel('Local Age [Gyr]',fontsize=12)\n",
    "    ax.set_ylabel('HR [mag]',fontsize=12)\n",
    "    ax.set_xlim(0,12)\n",
    "    ax.set_ylim(-0.7,0.7)\n",
    "plt.tight_layout()"
   ]
  },
  {
   "cell_type": "raw",
   "metadata": {},
   "source": [
    "# (2) LINMIX"
   ]
  },
  {
   "cell_type": "raw",
   "metadata": {
    "execution": {
     "iopub.execute_input": "2020-09-11T05:19:39.588611Z",
     "iopub.status.busy": "2020-09-11T05:19:39.588316Z",
     "iopub.status.idle": "2020-09-11T05:19:39.592888Z",
     "shell.execute_reply": "2020-09-11T05:19:39.591902Z",
     "shell.execute_reply.started": "2020-09-11T05:19:39.588566Z"
    }
   },
   "source": [
    "K = 2\n",
    "seed = 2"
   ]
  },
  {
   "cell_type": "raw",
   "metadata": {
    "execution": {
     "iopub.execute_input": "2020-09-11T05:19:39.594729Z",
     "iopub.status.busy": "2020-09-11T05:19:39.594473Z",
     "iopub.status.idle": "2020-09-11T05:20:00.112169Z",
     "shell.execute_reply": "2020-09-11T05:20:00.110742Z",
     "shell.execute_reply.started": "2020-09-11T05:19:39.594700Z"
    }
   },
   "source": [
    "lm1 = linmix.LinMix(data['Age_global'],data['HR'],data['Age_global_err'],data['HR_err'], K=K,seed=seed)\n",
    "lm1.run_mcmc(silent=True)"
   ]
  },
  {
   "cell_type": "raw",
   "metadata": {
    "execution": {
     "iopub.execute_input": "2020-09-11T05:20:00.113638Z",
     "iopub.status.busy": "2020-09-11T05:20:00.113427Z"
    }
   },
   "source": [
    "lm2 = linmix.LinMix(Age_all[::10], HR_all[::10], K=K,seed=seed)\n",
    "lm2.run_mcmc()#silent=True)"
   ]
  },
  {
   "cell_type": "raw",
   "metadata": {},
   "source": [
    "def odr_fit(xdata,ydata,xerr=None,yerr=None):\n",
    "    curve_odr = odr.Model(lambda PARAM,x: x*PARAM[0] + PARAM[1])\n",
    "    data = odr.RealData(xdata,ydata,sx=xerr, sy=yerr)\n",
    "    odr_obj = odr.ODR(data, curve_odr, beta0=[0., 0.])\n",
    "    out = odr_obj.run()\n",
    "    popt = out.beta\n",
    "    pcov = out.sd_beta\n",
    "    return popt,pcov"
   ]
  },
  {
   "cell_type": "raw",
   "metadata": {},
   "source": [
    "def linear(x,a,b):\n",
    "    return a*x + b"
   ]
  },
  {
   "cell_type": "raw",
   "metadata": {},
   "source": [
    "popt1,_ = odr_fit(data['Age_global'],data['HR'],data['Age_global_err'],data['HR_err'])\n",
    "popt2,_ = odr_fit(Age_all, HR_all)"
   ]
  },
  {
   "cell_type": "raw",
   "metadata": {},
   "source": [
    "x_th = np.linspace(0,14,10)\n",
    "\n",
    "fig,(ax1,ax2) = plt.subplots(1,2,figsize=(15,7))\n",
    "\n",
    "# data\n",
    "ax1.errorbar(data['Age_global'],data['HR'],yerr=data['HR_err'],xerr=data['Age_global_err'],fmt='ko',lw=0.5)\n",
    "ax2.hist2d(Age_all, HR_all,bins=Nbins,cmap=cmap)\n",
    "\n",
    "# ODR\n",
    "ax1.plot(x_th,linear(x_th,*popt1),c='orange',lw=2, label=\"ODR\",linestyle='--')\n",
    "ax2.plot(x_th,y_th,c='orange', lw=2,linestyle='--',zorder=4)\n",
    "\n",
    "# LINMIX\n",
    "for i in range(0, len(lm.chain), 25):\n",
    "    xs = np.arange(0,15)\n",
    "    ys1 = lm1.chain[i]['alpha'] + xs * lm1.chain[i]['beta']\n",
    "    ys2 = lm2.chain[i]['alpha'] + xs * lm2.chain[i]['beta']\n",
    "    ax1.plot(xs, ys1, color='g', alpha=0.02)\n",
    "    ax2.plot(xs, ys2, color='g', alpha=0.02)\n",
    "\n",
    "# prettifying\n",
    "ax1.set_title('Lee20 Fig.2\\nGaussian Error',fontsize=20)\n",
    "ax2.set_title('Original Age distribution for Rose19\\n10k sample/SN',fontsize=20)\n",
    "ax1.set_ylabel('Hubble Residual [mag]',fontsize=17)\n",
    "ax2.axes.yaxis.set_ticklabels([])\n",
    "for ax in [ax1,ax2]:\n",
    "    ax.set_xlabel('Global Age [Gyr]',fontsize=17)\n",
    "    ax.set_xlim(0,14)\n",
    "    ax.set_ylim(-0.75,0.75)\n",
    "    ax.tick_params(which='major', length=10, direction='in',right=True,top=True)\n",
    "    ax.tick_params(which='minor', length=5, direction='in',right=True,top=True)\n",
    "    ax.xaxis.set_major_locator(MultipleLocator(5))\n",
    "    ax.xaxis.set_minor_locator(MultipleLocator(1))\n",
    "    ax.yaxis.set_major_locator(MultipleLocator(0.5))\n",
    "    ax.yaxis.set_minor_locator(MultipleLocator(0.1))\n",
    "\n",
    "# quick and dirty solution to make legends\n",
    "trend_odr = Line2D([0],[0], c='orange', lw=2, label=\"ODR\",linestyle='--')\n",
    "trend_linmix = Line2D([0], [0], color='g', lw=2, label='LINMIX')\n",
    "ax1.legend(handles=[trend_odr,trend_linmix],fontsize=15)\n",
    "ax2.legend(handles=[trend_odr,trend_linmix],fontsize=15)\n",
    "\n",
    "plt.tight_layout()\n",
    "plt.subplots_adjust(wspace=0)\n",
    "plt.savefig('figures/ODRvsLINMIX.png',dpi=100)"
   ]
  },
  {
   "cell_type": "code",
   "execution_count": 1,
   "metadata": {
    "execution": {
     "iopub.execute_input": "2020-09-13T04:20:30.363571Z",
     "iopub.status.busy": "2020-09-13T04:20:30.363296Z",
     "iopub.status.idle": "2020-09-13T04:20:31.741175Z",
     "shell.execute_reply": "2020-09-13T04:20:31.740223Z",
     "shell.execute_reply.started": "2020-09-13T04:20:30.363543Z"
    }
   },
   "outputs": [],
   "source": [
    "import numpy as np\n",
    "import pandas as pd\n",
    "from scipy import stats\n",
    "\n",
    "import matplotlib as mpl\n",
    "import matplotlib.pyplot as plt\n",
    "import seaborn as sns\n",
    "\n",
    "from dataloader import *\n",
    "\n",
    "sns.set(style='ticks', context='talk')\n",
    "plt.style.use(\"paper.mplstyle\")"
   ]
  },
  {
   "cell_type": "code",
   "execution_count": 2,
   "metadata": {
    "execution": {
     "iopub.execute_input": "2020-09-13T04:20:31.742749Z",
     "iopub.status.busy": "2020-09-13T04:20:31.742540Z",
     "iopub.status.idle": "2020-09-13T04:20:33.779921Z",
     "shell.execute_reply": "2020-09-13T04:20:33.778730Z",
     "shell.execute_reply.started": "2020-09-13T04:20:31.742724Z"
    }
   },
   "outputs": [
    {
     "name": "stdout",
     "output_type": "stream",
     "text": [
      "Missing from R19 Table 1 of SNID: {15459}\n",
      "Missing from Campbell MCMC chains of SNID: {3256}\n",
      "Resulting data will be an inner join of the two\n"
     ]
    },
    {
     "data": {
      "text/html": [
       "<div>\n",
       "<style scoped>\n",
       "    .dataframe tbody tr th:only-of-type {\n",
       "        vertical-align: middle;\n",
       "    }\n",
       "\n",
       "    .dataframe tbody tr th {\n",
       "        vertical-align: top;\n",
       "    }\n",
       "\n",
       "    .dataframe thead th {\n",
       "        text-align: right;\n",
       "    }\n",
       "</style>\n",
       "<table border=\"1\" class=\"dataframe\">\n",
       "  <thead>\n",
       "    <tr style=\"text-align: right;\">\n",
       "      <th></th>\n",
       "      <th>age</th>\n",
       "    </tr>\n",
       "    <tr>\n",
       "      <th>snid</th>\n",
       "      <th></th>\n",
       "    </tr>\n",
       "  </thead>\n",
       "  <tbody>\n",
       "    <tr>\n",
       "      <th>762</th>\n",
       "      <td>2.021842</td>\n",
       "    </tr>\n",
       "    <tr>\n",
       "      <th>762</th>\n",
       "      <td>2.833909</td>\n",
       "    </tr>\n",
       "    <tr>\n",
       "      <th>762</th>\n",
       "      <td>2.580368</td>\n",
       "    </tr>\n",
       "    <tr>\n",
       "      <th>762</th>\n",
       "      <td>2.397617</td>\n",
       "    </tr>\n",
       "    <tr>\n",
       "      <th>762</th>\n",
       "      <td>2.629097</td>\n",
       "    </tr>\n",
       "  </tbody>\n",
       "</table>\n",
       "</div>"
      ],
      "text/plain": [
       "           age\n",
       "snid          \n",
       "762   2.021842\n",
       "762   2.833909\n",
       "762   2.580368\n",
       "762   2.397617\n",
       "762   2.629097"
      ]
     },
     "metadata": {},
     "output_type": "display_data"
    },
    {
     "data": {
      "text/html": [
       "<div>\n",
       "<style scoped>\n",
       "    .dataframe tbody tr th:only-of-type {\n",
       "        vertical-align: middle;\n",
       "    }\n",
       "\n",
       "    .dataframe tbody tr th {\n",
       "        vertical-align: top;\n",
       "    }\n",
       "\n",
       "    .dataframe thead th {\n",
       "        text-align: right;\n",
       "    }\n",
       "</style>\n",
       "<table border=\"1\" class=\"dataframe\">\n",
       "  <thead>\n",
       "    <tr style=\"text-align: right;\">\n",
       "      <th></th>\n",
       "      <th>hr</th>\n",
       "      <th>hr_err</th>\n",
       "    </tr>\n",
       "    <tr>\n",
       "      <th>snid</th>\n",
       "      <th></th>\n",
       "      <th></th>\n",
       "    </tr>\n",
       "  </thead>\n",
       "  <tbody>\n",
       "    <tr>\n",
       "      <th>762</th>\n",
       "      <td>0.15</td>\n",
       "      <td>0.08</td>\n",
       "    </tr>\n",
       "    <tr>\n",
       "      <th>1032</th>\n",
       "      <td>-0.15</td>\n",
       "      <td>0.12</td>\n",
       "    </tr>\n",
       "    <tr>\n",
       "      <th>1371</th>\n",
       "      <td>-0.14</td>\n",
       "      <td>0.06</td>\n",
       "    </tr>\n",
       "    <tr>\n",
       "      <th>1794</th>\n",
       "      <td>0.27</td>\n",
       "      <td>0.08</td>\n",
       "    </tr>\n",
       "    <tr>\n",
       "      <th>2372</th>\n",
       "      <td>-0.12</td>\n",
       "      <td>0.07</td>\n",
       "    </tr>\n",
       "  </tbody>\n",
       "</table>\n",
       "</div>"
      ],
      "text/plain": [
       "        hr  hr_err\n",
       "snid              \n",
       "762   0.15    0.08\n",
       "1032 -0.15    0.12\n",
       "1371 -0.14    0.06\n",
       "1794  0.27    0.08\n",
       "2372 -0.12    0.07"
      ]
     },
     "metadata": {},
     "output_type": "display_data"
    },
    {
     "data": {
      "image/png": "[encoded data removed]",
      "text/plain": [
       "<Figure size 432x432 with 3 Axes>"
      ]
     },
     "metadata": {},
     "output_type": "display_data"
    }
   ],
   "source": [
    "# load_age_sample_from_mcmc_chains('campbell', mode=\"write\")\n",
    "age_df = load_age_sample_from_mcmc_chains('campbell', mode=\"read\")\n",
    "age_df = age_df.set_index(\"snid\").sort_index()\n",
    "\n",
    "hr_df = load_hr(\"campbell\")\n",
    "hr_df = hr_df\n",
    "hr_df.columns = hr_df.columns.str.lower()\n",
    "hr_df = (hr_df.rename(columns={\n",
    "    \"sdss\": \"snid\",\n",
    "    \"e_hr\": \"hr_err\"\n",
    "})\n",
    "         .set_index(\"snid\")\n",
    "         .sort_index()[[\"hr\", \"hr_err\"]])\n",
    "\n",
    "in_age_not_hr = set(age_df.index) - set(hr_df.index)\n",
    "in_hr_not_age = set(hr_df.index) - set(age_df.index)\n",
    "print(\"Missing from R19 Table 1 of SNID:\", in_age_not_hr)\n",
    "print(\"Missing from Campbell MCMC chains of SNID:\", in_hr_not_age)\n",
    "\n",
    "print(\"Resulting data will be an inner join of the two\")\n",
    "age_df = age_df.drop(index=in_age_not_hr)\n",
    "hr_df = hr_df.drop(index=in_hr_not_age)\n",
    "snids = age_df.index.unique().tolist()\n",
    "\n",
    "display(age_df.head())\n",
    "display(hr_df.head())\n",
    "\n",
    "# Joint plot of Age and HR row means\n",
    "sns.jointplot( age_df.groupby('snid').mean()['age'], hr_df['hr'], s=15).plot_joint(sns.kdeplot, zorder=0, n_levels=4);"
   ]
  },
  {
   "cell_type": "code",
   "execution_count": 3,
   "metadata": {
    "execution": {
     "iopub.execute_input": "2020-09-13T04:20:33.781917Z",
     "iopub.status.busy": "2020-09-13T04:20:33.781690Z",
     "iopub.status.idle": "2020-09-13T04:21:17.393577Z",
     "shell.execute_reply": "2020-09-13T04:21:17.392396Z",
     "shell.execute_reply.started": "2020-09-13T04:20:33.781890Z"
    },
    "scrolled": true
   },
   "outputs": [
    {
     "name": "stdout",
     "output_type": "stream",
     "text": [
      "\n",
      "Iteration:  100\n",
      "Rhat values for alpha, beta, log(sigma^2), mean(xi), log(var(xi)), atanh(corr(xi, eta)):\n",
      "[0.99648043 0.99214278 1.0447102  1.03060888 1.02230651 0.99030962]\n",
      "\n",
      "Iteration:  200\n",
      "Rhat values for alpha, beta, log(sigma^2), mean(xi), log(var(xi)), atanh(corr(xi, eta)):\n",
      "[0.99968112 0.99995859 1.00572337 1.00379583 1.00907124 0.99884357]\n",
      "\n",
      "Iteration:  300\n",
      "Rhat values for alpha, beta, log(sigma^2), mean(xi), log(var(xi)), atanh(corr(xi, eta)):\n",
      "[0.99903966 0.99750924 1.01450305 1.00337382 1.00897494 1.00026539]\n",
      "\n",
      "Iteration:  400\n",
      "Rhat values for alpha, beta, log(sigma^2), mean(xi), log(var(xi)), atanh(corr(xi, eta)):\n",
      "[1.00331048 1.0008763  1.00756574 1.00239115 0.99961829 1.00160637]\n",
      "\n",
      "Iteration:  500\n",
      "Rhat values for alpha, beta, log(sigma^2), mean(xi), log(var(xi)), atanh(corr(xi, eta)):\n",
      "[1.00285707 1.00121249 1.00784379 1.00420117 0.99969638 1.00092858]\n",
      "\n",
      "Iteration:  600\n",
      "Rhat values for alpha, beta, log(sigma^2), mean(xi), log(var(xi)), atanh(corr(xi, eta)):\n",
      "[1.00409139 1.00297444 1.00555848 1.00576286 1.0004498  1.00366593]\n",
      "\n",
      "Iteration:  700\n",
      "Rhat values for alpha, beta, log(sigma^2), mean(xi), log(var(xi)), atanh(corr(xi, eta)):\n",
      "[1.00161211 1.00094003 1.00153163 1.00709568 1.00051461 1.00263978]\n",
      "\n",
      "Iteration:  800\n",
      "Rhat values for alpha, beta, log(sigma^2), mean(xi), log(var(xi)), atanh(corr(xi, eta)):\n",
      "[1.00063827 1.00032498 1.00250557 1.00549347 1.00145317 1.00188644]\n",
      "\n",
      "Iteration:  900\n",
      "Rhat values for alpha, beta, log(sigma^2), mean(xi), log(var(xi)), atanh(corr(xi, eta)):\n",
      "[0.99977549 0.9995532  1.00212998 1.00513083 1.0013231  1.00124288]\n",
      "\n",
      "Iteration:  1000\n",
      "Rhat values for alpha, beta, log(sigma^2), mean(xi), log(var(xi)), atanh(corr(xi, eta)):\n",
      "[0.99979706 0.99959904 1.00234439 1.003522   1.00119907 1.0003393 ]\n",
      "\n",
      "Iteration:  1100\n",
      "Rhat values for alpha, beta, log(sigma^2), mean(xi), log(var(xi)), atanh(corr(xi, eta)):\n",
      "[0.99977916 0.99976907 1.00224636 1.00227243 1.00109925 1.00092821]\n",
      "\n",
      "Iteration:  1200\n",
      "Rhat values for alpha, beta, log(sigma^2), mean(xi), log(var(xi)), atanh(corr(xi, eta)):\n",
      "[0.99953734 0.99950828 1.00123213 1.00143145 1.00103815 1.00107657]\n",
      "\n",
      "Iteration:  1300\n",
      "Rhat values for alpha, beta, log(sigma^2), mean(xi), log(var(xi)), atanh(corr(xi, eta)):\n",
      "[0.99976435 0.99962727 1.00030457 1.00137349 1.0009779  1.00157236]\n",
      "\n",
      "Iteration:  1400\n",
      "Rhat values for alpha, beta, log(sigma^2), mean(xi), log(var(xi)), atanh(corr(xi, eta)):\n",
      "[1.00012068 0.99991174 1.00009854 1.00149242 1.0009467  1.00166596]\n",
      "\n",
      "Iteration:  1500\n",
      "Rhat values for alpha, beta, log(sigma^2), mean(xi), log(var(xi)), atanh(corr(xi, eta)):\n",
      "[0.99985634 0.99967278 1.00072308 1.00125226 1.00089696 1.00102643]\n",
      "\n",
      "Iteration:  1600\n",
      "Rhat values for alpha, beta, log(sigma^2), mean(xi), log(var(xi)), atanh(corr(xi, eta)):\n",
      "[0.99993453 0.99984709 1.00093074 1.0011538  1.00081099 1.00087413]\n",
      "\n",
      "Iteration:  1700\n",
      "Rhat values for alpha, beta, log(sigma^2), mean(xi), log(var(xi)), atanh(corr(xi, eta)):\n",
      "[1.00000498 0.99988803 1.00122497 1.00058993 1.00076154 1.00063043]\n",
      "\n",
      "Iteration:  1800\n",
      "Rhat values for alpha, beta, log(sigma^2), mean(xi), log(var(xi)), atanh(corr(xi, eta)):\n",
      "[0.99992679 0.99985257 1.00081256 1.00034295 1.00071453 1.0007261 ]\n",
      "\n",
      "Iteration:  1900\n",
      "Rhat values for alpha, beta, log(sigma^2), mean(xi), log(var(xi)), atanh(corr(xi, eta)):\n",
      "[0.99969337 0.99968061 1.00095352 1.00028922 1.00065621 1.00023891]\n",
      "\n",
      "Iteration:  2000\n",
      "Rhat values for alpha, beta, log(sigma^2), mean(xi), log(var(xi)), atanh(corr(xi, eta)):\n",
      "[0.99953672 0.99954812 1.00047973 1.00007208 1.00015173 0.99983697]\n",
      "\n",
      "Iteration:  2100\n",
      "Rhat values for alpha, beta, log(sigma^2), mean(xi), log(var(xi)), atanh(corr(xi, eta)):\n",
      "[0.9996474  0.99971375 1.00059342 1.00017787 1.00019459 1.0001216 ]\n",
      "\n",
      "Iteration:  2200\n",
      "Rhat values for alpha, beta, log(sigma^2), mean(xi), log(var(xi)), atanh(corr(xi, eta)):\n",
      "[0.99975969 0.99984307 1.00027627 1.00027348 1.00030516 1.0005087 ]\n",
      "\n",
      "Iteration:  2300\n",
      "Rhat values for alpha, beta, log(sigma^2), mean(xi), log(var(xi)), atanh(corr(xi, eta)):\n",
      "[0.99969585 0.99970238 1.00055314 1.00021564 1.00028118 1.00014351]\n",
      "\n",
      "Iteration:  2400\n",
      "Rhat values for alpha, beta, log(sigma^2), mean(xi), log(var(xi)), atanh(corr(xi, eta)):\n",
      "[0.99973208 0.9997249  1.00051477 1.00010492 1.00025031 1.00008898]\n",
      "\n",
      "Iteration:  2500\n",
      "Rhat values for alpha, beta, log(sigma^2), mean(xi), log(var(xi)), atanh(corr(xi, eta)):\n",
      "[0.99970429 0.99971823 1.0007244  1.00002318 1.00023431 1.00003858]\n",
      "\n",
      "Iteration:  2600\n",
      "Rhat values for alpha, beta, log(sigma^2), mean(xi), log(var(xi)), atanh(corr(xi, eta)):\n",
      "[0.99982212 0.99981861 1.00120428 1.00011125 1.00023525 1.00033407]\n",
      "\n",
      "Iteration:  2700\n",
      "Rhat values for alpha, beta, log(sigma^2), mean(xi), log(var(xi)), atanh(corr(xi, eta)):\n",
      "[0.99977537 0.99977088 1.00090679 0.99990279 1.00019323 1.00021526]\n",
      "\n",
      "Iteration:  2800\n",
      "Rhat values for alpha, beta, log(sigma^2), mean(xi), log(var(xi)), atanh(corr(xi, eta)):\n",
      "[0.99985221 0.99981732 1.00053427 0.99985224 1.00012024 1.00015173]\n",
      "\n",
      "Iteration:  2900\n",
      "Rhat values for alpha, beta, log(sigma^2), mean(xi), log(var(xi)), atanh(corr(xi, eta)):\n",
      "[0.99974844 0.99972609 1.00044671 0.99982425 1.00012752 1.00003431]\n",
      "\n",
      "Iteration:  3000\n",
      "Rhat values for alpha, beta, log(sigma^2), mean(xi), log(var(xi)), atanh(corr(xi, eta)):\n",
      "[0.9997538  0.99973351 1.00087172 0.99981635 1.00010175 0.99991497]\n",
      "\n",
      "Iteration:  3100\n",
      "Rhat values for alpha, beta, log(sigma^2), mean(xi), log(var(xi)), atanh(corr(xi, eta)):\n",
      "[0.99979939 0.99978192 1.00107337 0.99977434 1.00011524 0.99995857]\n",
      "\n",
      "Iteration:  3200\n",
      "Rhat values for alpha, beta, log(sigma^2), mean(xi), log(var(xi)), atanh(corr(xi, eta)):\n",
      "[0.99977106 0.99979022 1.00119802 0.99977915 1.00012164 0.99991351]\n",
      "\n",
      "Iteration:  3300\n",
      "Rhat values for alpha, beta, log(sigma^2), mean(xi), log(var(xi)), atanh(corr(xi, eta)):\n",
      "[0.9998204  0.99984827 1.00096306 0.99978153 1.00011469 0.99998401]\n",
      "\n",
      "Iteration:  3400\n",
      "Rhat values for alpha, beta, log(sigma^2), mean(xi), log(var(xi)), atanh(corr(xi, eta)):\n",
      "[0.99982524 0.9998552  1.00088023 0.99977208 1.00014098 1.00009704]\n",
      "\n",
      "Iteration:  3500\n",
      "Rhat values for alpha, beta, log(sigma^2), mean(xi), log(var(xi)), atanh(corr(xi, eta)):\n",
      "[0.99980916 0.99984992 1.00105527 0.99978746 1.00010625 1.00001866]\n",
      "\n",
      "Iteration:  3600\n",
      "Rhat values for alpha, beta, log(sigma^2), mean(xi), log(var(xi)), atanh(corr(xi, eta)):\n",
      "[0.99978102 0.99984512 1.00123241 0.99980212 1.00001873 1.00015626]\n",
      "\n",
      "Iteration:  3700\n",
      "Rhat values for alpha, beta, log(sigma^2), mean(xi), log(var(xi)), atanh(corr(xi, eta)):\n",
      "[0.99980338 0.99985488 1.00092583 0.99985099 1.0000181  1.00014973]\n",
      "\n",
      "Iteration:  3800\n",
      "Rhat values for alpha, beta, log(sigma^2), mean(xi), log(var(xi)), atanh(corr(xi, eta)):\n",
      "[0.99985001 0.99987106 1.00091239 0.9998845  1.00001098 1.00012964]\n",
      "\n",
      "Iteration:  3900\n",
      "Rhat values for alpha, beta, log(sigma^2), mean(xi), log(var(xi)), atanh(corr(xi, eta)):\n",
      "[0.99987236 0.99990014 1.00090212 0.9999367  1.0000106  1.00018301]\n",
      "\n",
      "Iteration:  4000\n",
      "Rhat values for alpha, beta, log(sigma^2), mean(xi), log(var(xi)), atanh(corr(xi, eta)):\n",
      "[0.99985023 0.99986689 1.00099851 0.99993749 1.00001017 1.00010195]\n",
      "\n",
      "Iteration:  4100\n",
      "Rhat values for alpha, beta, log(sigma^2), mean(xi), log(var(xi)), atanh(corr(xi, eta)):\n",
      "[0.99991319 0.99991807 1.00092557 0.99998423 1.00000985 1.00012776]\n",
      "\n",
      "Iteration:  4200\n",
      "Rhat values for alpha, beta, log(sigma^2), mean(xi), log(var(xi)), atanh(corr(xi, eta)):\n",
      "[0.99997545 0.99996114 1.00071222 0.99998971 1.00000964 1.00015352]\n",
      "\n",
      "Iteration:  4300\n",
      "Rhat values for alpha, beta, log(sigma^2), mean(xi), log(var(xi)), atanh(corr(xi, eta)):\n",
      "[0.99992676 0.99990338 1.00056693 1.00002745 1.00000587 1.00006853]\n",
      "\n",
      "Iteration:  4400\n",
      "Rhat values for alpha, beta, log(sigma^2), mean(xi), log(var(xi)), atanh(corr(xi, eta)):\n",
      "[0.99992764 0.99989164 1.00056443 1.00000001 1.00000695 1.00007965]\n",
      "\n",
      "Iteration:  4500\n",
      "Rhat values for alpha, beta, log(sigma^2), mean(xi), log(var(xi)), atanh(corr(xi, eta)):\n",
      "[0.99988232 0.99986194 1.00060558 1.00000168 1.00000649 1.00006415]\n",
      "\n",
      "Iteration:  4600\n",
      "Rhat values for alpha, beta, log(sigma^2), mean(xi), log(var(xi)), atanh(corr(xi, eta)):\n",
      "[0.99995415 0.99993752 1.00063001 1.00003314 1.00000612 1.00015374]\n",
      "\n",
      "Iteration:  4700\n",
      "Rhat values for alpha, beta, log(sigma^2), mean(xi), log(var(xi)), atanh(corr(xi, eta)):\n",
      "[0.99991569 0.99992211 1.00052431 1.000039   1.00000616 1.00012704]\n",
      "\n",
      "Iteration:  4800\n",
      "Rhat values for alpha, beta, log(sigma^2), mean(xi), log(var(xi)), atanh(corr(xi, eta)):\n",
      "[0.99996687 0.99996519 1.00055524 1.00004991 1.00000184 1.0001871 ]\n",
      "\n",
      "Iteration:  4900\n",
      "Rhat values for alpha, beta, log(sigma^2), mean(xi), log(var(xi)), atanh(corr(xi, eta)):\n",
      "[0.99997698 0.99998495 1.00041241 1.00004081 0.99996066 1.00023937]\n",
      "\n",
      "Iteration:  5000\n",
      "Rhat values for alpha, beta, log(sigma^2), mean(xi), log(var(xi)), atanh(corr(xi, eta)):\n",
      "[1.00004609 1.00002528 1.00038162 1.00011563 0.99994726 1.00029339]\n",
      "\n",
      "Iteration:  100\n",
      "Rhat values for alpha, beta, log(sigma^2), mean(xi), log(var(xi)), atanh(corr(xi, eta)):\n",
      "[1.64462325 1.69706312 1.23445968 1.04139618 1.17869651 1.35708151]\n",
      "\n",
      "Iteration:  200\n",
      "Rhat values for alpha, beta, log(sigma^2), mean(xi), log(var(xi)), atanh(corr(xi, eta)):\n",
      "[1.323855   1.35304371 1.2934747  1.06416058 1.09749522 1.42474357]\n",
      "\n",
      "Iteration:  300\n",
      "Rhat values for alpha, beta, log(sigma^2), mean(xi), log(var(xi)), atanh(corr(xi, eta)):\n",
      "[1.19915283 1.22168688 1.19056652 1.01291583 0.99999527 1.19699552]\n",
      "\n",
      "Iteration:  400\n",
      "Rhat values for alpha, beta, log(sigma^2), mean(xi), log(var(xi)), atanh(corr(xi, eta)):\n",
      "[1.14482849 1.15850689 1.13560619 1.01182163 1.00147443 1.11536832]\n",
      "\n",
      "Iteration:  500\n",
      "Rhat values for alpha, beta, log(sigma^2), mean(xi), log(var(xi)), atanh(corr(xi, eta)):\n",
      "[1.10047076 1.10671647 1.10226438 1.01736997 1.0013821  1.08199725]\n",
      "\n",
      "Iteration:  600\n",
      "Rhat values for alpha, beta, log(sigma^2), mean(xi), log(var(xi)), atanh(corr(xi, eta)):\n",
      "[1.08702203 1.08981937 1.08999135 1.0292732  1.00089257 1.08045949]\n",
      "\n",
      "Iteration:  700\n",
      "Rhat values for alpha, beta, log(sigma^2), mean(xi), log(var(xi)), atanh(corr(xi, eta)):\n",
      "[1.07183279 1.07451671 1.07663996 1.01800005 1.0005784  1.07426281]\n",
      "\n",
      "Iteration:  800\n",
      "Rhat values for alpha, beta, log(sigma^2), mean(xi), log(var(xi)), atanh(corr(xi, eta)):\n",
      "[1.05929616 1.06078294 1.05525244 1.02115366 1.00075145 1.05548665]\n",
      "\n",
      "Iteration:  900\n",
      "Rhat values for alpha, beta, log(sigma^2), mean(xi), log(var(xi)), atanh(corr(xi, eta)):\n",
      "[1.05401212 1.05403431 1.0437428  1.02474337 1.0008076  1.04429011]\n",
      "\n",
      "Iteration:  1000\n",
      "Rhat values for alpha, beta, log(sigma^2), mean(xi), log(var(xi)), atanh(corr(xi, eta)):\n",
      "[1.04846143 1.04786343 1.0399715  1.02301475 1.00000371 1.0305103 ]\n",
      "\n",
      "Iteration:  1100\n",
      "Rhat values for alpha, beta, log(sigma^2), mean(xi), log(var(xi)), atanh(corr(xi, eta)):\n",
      "[1.04207628 1.0420229  1.03254151 1.01453788 1.00021411 1.02134796]\n",
      "\n",
      "Iteration:  1200\n",
      "Rhat values for alpha, beta, log(sigma^2), mean(xi), log(var(xi)), atanh(corr(xi, eta)):\n",
      "[1.03799326 1.03791302 1.03063193 1.01016062 1.00019623 1.01897646]\n",
      "\n",
      "Iteration:  1300\n",
      "Rhat values for alpha, beta, log(sigma^2), mean(xi), log(var(xi)), atanh(corr(xi, eta)):\n",
      "[1.03304959 1.03366146 1.02074363 1.00448499 1.00018128 1.01404677]\n",
      "\n",
      "Iteration:  1400\n",
      "Rhat values for alpha, beta, log(sigma^2), mean(xi), log(var(xi)), atanh(corr(xi, eta)):\n",
      "[1.03741292 1.03871962 1.02381394 1.002544   1.00016834 1.01723129]\n",
      "\n",
      "Iteration:  1500\n",
      "Rhat values for alpha, beta, log(sigma^2), mean(xi), log(var(xi)), atanh(corr(xi, eta)):\n",
      "[1.03484268 1.03573979 1.01979617 1.00250275 1.00015719 1.01610477]\n",
      "\n",
      "Iteration:  1600\n",
      "Rhat values for alpha, beta, log(sigma^2), mean(xi), log(var(xi)), atanh(corr(xi, eta)):\n",
      "[1.03176431 1.03265097 1.0145226  1.00107867 1.00014745 1.01415678]\n",
      "\n",
      "Iteration:  1700\n",
      "Rhat values for alpha, beta, log(sigma^2), mean(xi), log(var(xi)), atanh(corr(xi, eta)):\n",
      "[1.03239356 1.03333254 1.01443788 1.00037196 1.00013885 1.01410938]\n",
      "\n",
      "Iteration:  1800\n",
      "Rhat values for alpha, beta, log(sigma^2), mean(xi), log(var(xi)), atanh(corr(xi, eta)):\n",
      "[1.02684057 1.02682993 1.01024256 1.00063936 1.00013105 1.01121704]\n",
      "\n",
      "Iteration:  1900\n",
      "Rhat values for alpha, beta, log(sigma^2), mean(xi), log(var(xi)), atanh(corr(xi, eta)):\n",
      "[1.02612403 1.02623917 1.01124582 1.00036947 1.00012417 1.01219992]\n",
      "\n",
      "Iteration:  2000\n",
      "Rhat values for alpha, beta, log(sigma^2), mean(xi), log(var(xi)), atanh(corr(xi, eta)):\n",
      "[1.02603361 1.02625196 1.01152853 1.00016041 1.00011805 1.01204476]\n",
      "\n",
      "Iteration:  2100\n",
      "Rhat values for alpha, beta, log(sigma^2), mean(xi), log(var(xi)), atanh(corr(xi, eta)):\n",
      "[1.02323767 1.02333195 1.01118408 1.00019808 1.00011245 1.01075643]\n",
      "\n",
      "Iteration:  2200\n",
      "Rhat values for alpha, beta, log(sigma^2), mean(xi), log(var(xi)), atanh(corr(xi, eta)):\n",
      "[1.01981988 1.02017309 1.00901317 0.99994799 1.00010735 1.00920475]\n",
      "\n",
      "Iteration:  2300\n",
      "Rhat values for alpha, beta, log(sigma^2), mean(xi), log(var(xi)), atanh(corr(xi, eta)):\n",
      "[1.01796852 1.01853516 1.00675867 0.99968796 1.00010244 1.0077526 ]\n",
      "\n",
      "Iteration:  2400\n",
      "Rhat values for alpha, beta, log(sigma^2), mean(xi), log(var(xi)), atanh(corr(xi, eta)):\n",
      "[1.01877831 1.01918287 1.00863811 1.00006114 1.00009823 1.00906959]\n",
      "\n",
      "Iteration:  2500\n",
      "Rhat values for alpha, beta, log(sigma^2), mean(xi), log(var(xi)), atanh(corr(xi, eta)):\n",
      "[1.01682252 1.01707703 1.0085145  1.00020121 1.0000943  1.00849278]\n",
      "\n",
      "Iteration:  2600\n",
      "Rhat values for alpha, beta, log(sigma^2), mean(xi), log(var(xi)), atanh(corr(xi, eta)):\n",
      "[1.01501551 1.01539282 1.00697062 1.00044223 1.00009077 1.00710045]\n",
      "\n",
      "Iteration:  2700\n",
      "Rhat values for alpha, beta, log(sigma^2), mean(xi), log(var(xi)), atanh(corr(xi, eta)):\n",
      "[1.0139409  1.01475468 1.00471402 1.00075044 1.00008752 1.00537775]\n",
      "\n",
      "Iteration:  2800\n",
      "Rhat values for alpha, beta, log(sigma^2), mean(xi), log(var(xi)), atanh(corr(xi, eta)):\n",
      "[1.01289252 1.01369242 1.00407429 1.00078025 1.00008451 1.00433831]\n",
      "\n",
      "Iteration:  2900\n",
      "Rhat values for alpha, beta, log(sigma^2), mean(xi), log(var(xi)), atanh(corr(xi, eta)):\n",
      "[1.01423134 1.01522903 1.00401501 1.00121842 1.00008163 1.00466548]\n",
      "\n",
      "Iteration:  3000\n",
      "Rhat values for alpha, beta, log(sigma^2), mean(xi), log(var(xi)), atanh(corr(xi, eta)):\n",
      "[1.01375197 1.01474585 1.00269478 1.00148361 1.00007898 1.00328135]\n",
      "\n",
      "Iteration:  3100\n",
      "Rhat values for alpha, beta, log(sigma^2), mean(xi), log(var(xi)), atanh(corr(xi, eta)):\n",
      "[1.01109926 1.01182019 1.0019345  1.00107425 1.0000769  1.0021347 ]\n",
      "\n",
      "Iteration:  3200\n",
      "Rhat values for alpha, beta, log(sigma^2), mean(xi), log(var(xi)), atanh(corr(xi, eta)):\n",
      "[1.01059416 1.01123132 1.00303594 1.00163099 1.00007421 1.00273059]\n",
      "\n",
      "Iteration:  3300\n",
      "Rhat values for alpha, beta, log(sigma^2), mean(xi), log(var(xi)), atanh(corr(xi, eta)):\n",
      "[1.01045481 1.01121675 1.00203491 1.00143039 1.00007199 1.00168487]\n",
      "\n",
      "Iteration:  3400\n",
      "Rhat values for alpha, beta, log(sigma^2), mean(xi), log(var(xi)), atanh(corr(xi, eta)):\n",
      "[1.0100347  1.01076471 1.00267415 1.00150788 1.00006983 1.00219948]\n",
      "\n",
      "Iteration:  3500\n",
      "Rhat values for alpha, beta, log(sigma^2), mean(xi), log(var(xi)), atanh(corr(xi, eta)):\n",
      "[1.01001025 1.01069432 1.00331446 1.00130379 1.00006653 1.00310669]\n",
      "\n",
      "Iteration:  3600\n",
      "Rhat values for alpha, beta, log(sigma^2), mean(xi), log(var(xi)), atanh(corr(xi, eta)):\n",
      "[1.00796754 1.00856266 1.00365758 1.00152943 1.00006466 1.00328973]\n",
      "\n",
      "Iteration:  3700\n",
      "Rhat values for alpha, beta, log(sigma^2), mean(xi), log(var(xi)), atanh(corr(xi, eta)):\n",
      "[1.00787741 1.0083196  1.00493673 1.00097764 1.00006285 1.00401753]\n",
      "\n",
      "Iteration:  3800\n",
      "Rhat values for alpha, beta, log(sigma^2), mean(xi), log(var(xi)), atanh(corr(xi, eta)):\n",
      "[1.00567729 1.00592512 1.00466076 1.00074342 1.00006118 1.0034118 ]\n",
      "\n",
      "Iteration:  3900\n",
      "Rhat values for alpha, beta, log(sigma^2), mean(xi), log(var(xi)), atanh(corr(xi, eta)):\n",
      "[1.00574178 1.00606733 1.00554939 1.00138921 1.00005962 1.00435486]\n",
      "\n",
      "Iteration:  4000\n",
      "Rhat values for alpha, beta, log(sigma^2), mean(xi), log(var(xi)), atanh(corr(xi, eta)):\n",
      "[1.00567863 1.00597617 1.00522232 1.00199844 1.00005814 1.004699  ]\n",
      "\n",
      "Iteration:  4100\n",
      "Rhat values for alpha, beta, log(sigma^2), mean(xi), log(var(xi)), atanh(corr(xi, eta)):\n",
      "[1.00686282 1.00723177 1.00523921 1.00184675 1.00005677 1.00447188]\n",
      "\n",
      "Iteration:  4200\n",
      "Rhat values for alpha, beta, log(sigma^2), mean(xi), log(var(xi)), atanh(corr(xi, eta)):\n",
      "[1.00720539 1.00758958 1.00567906 1.00203425 1.00005543 1.00500606]\n",
      "\n",
      "Iteration:  4300\n",
      "Rhat values for alpha, beta, log(sigma^2), mean(xi), log(var(xi)), atanh(corr(xi, eta)):\n",
      "[1.00793897 1.0084217  1.00616198 1.0025513  1.00005418 1.0057139 ]\n",
      "\n",
      "Iteration:  4400\n",
      "Rhat values for alpha, beta, log(sigma^2), mean(xi), log(var(xi)), atanh(corr(xi, eta)):\n",
      "[1.00731323 1.00786533 1.00580317 1.00367406 1.00005293 1.0055034 ]\n",
      "\n",
      "Iteration:  4500\n",
      "Rhat values for alpha, beta, log(sigma^2), mean(xi), log(var(xi)), atanh(corr(xi, eta)):\n",
      "[1.00689354 1.00746105 1.00501897 1.00349536 1.00005172 1.00476233]\n",
      "\n",
      "Iteration:  4600\n",
      "Rhat values for alpha, beta, log(sigma^2), mean(xi), log(var(xi)), atanh(corr(xi, eta)):\n",
      "[1.00760516 1.00818548 1.00460449 1.00320328 1.0000506  1.00458098]\n",
      "\n",
      "Iteration:  4700\n",
      "Rhat values for alpha, beta, log(sigma^2), mean(xi), log(var(xi)), atanh(corr(xi, eta)):\n",
      "[1.00712388 1.00761961 1.00357477 1.00242526 1.00004957 1.00368137]\n",
      "\n",
      "Iteration:  4800\n",
      "Rhat values for alpha, beta, log(sigma^2), mean(xi), log(var(xi)), atanh(corr(xi, eta)):\n",
      "[1.00584025 1.00628649 1.00351107 1.00282323 1.00004862 1.00362077]\n",
      "\n",
      "Iteration:  4900\n",
      "Rhat values for alpha, beta, log(sigma^2), mean(xi), log(var(xi)), atanh(corr(xi, eta)):\n",
      "[1.00576478 1.00620033 1.00339068 1.00237593 1.00004761 1.00332627]\n",
      "\n",
      "Iteration:  5000\n",
      "Rhat values for alpha, beta, log(sigma^2), mean(xi), log(var(xi)), atanh(corr(xi, eta)):\n",
      "[1.00550427 1.00590029 1.00279457 1.00221897 1.00004673 1.00274141]\n"
     ]
    }
   ],
   "source": [
    "from linmix import linmix\n",
    "\n",
    "age_mean = age_df['age'].groupby('snid').mean().to_numpy()\n",
    "age_sd = age_df['age'].groupby('snid').std().to_numpy()\n",
    "\n",
    "lm1 = linmix.LinMix(age_mean, hr_df['hr'], xsig=None, ysig=hr_df['hr_err'], K=3, seed=912)\n",
    "lm1.run_mcmc(maxiter=5000)\n",
    "\n",
    "lm2 = linmix.LinMix(age_mean, hr_df['hr'], xsig=age_sd, ysig=hr_df['hr_err'], K=3, seed=912)\n",
    "lm2.run_mcmc(maxiter=5000)"
   ]
  },
  {
   "cell_type": "code",
   "execution_count": 4,
   "metadata": {
    "execution": {
     "iopub.execute_input": "2020-09-13T04:21:17.395986Z",
     "iopub.status.busy": "2020-09-13T04:21:17.395709Z",
     "iopub.status.idle": "2020-09-13T04:21:17.982895Z",
     "shell.execute_reply": "2020-09-13T04:21:17.981621Z",
     "shell.execute_reply.started": "2020-09-13T04:21:17.395955Z"
    }
   },
   "outputs": [
    {
     "data": {
      "text/plain": [
       "Text(0.5, 0, 'Slope')"
      ]
     },
     "execution_count": 4,
     "metadata": {},
     "output_type": "execute_result"
    },
    {
     "data": {
      "image/png": "[encoded data removed]",
      "text/plain": [
       "<Figure size 720x432 with 1 Axes>"
      ]
     },
     "metadata": {},
     "output_type": "display_data"
    }
   ],
   "source": [
    "bins = np.linspace(-0.2, 0.8, 50)\n",
    "plt.hist(lm1.chain[\"alpha\"], bins, alpha=0.5, label=\"xsig=None\")\n",
    "plt.hist(lm2.chain[\"alpha\"], bins, alpha=0.5, label=\"xsig=SD(Age)\")\n",
    "plt.legend()\n",
    "plt.ylabel(\"Count\")\n",
    "plt.xlabel(\"Slope\")"
   ]
  }
 ],
 "metadata": {
  "kernelspec": {
   "display_name": "Python 3",
   "language": "python",
   "name": "python3"
  },
  "language_info": {
   "codemirror_mode": {
    "name": "ipython",
    "version": 3
   },
   "file_extension": ".py",
   "mimetype": "text/x-python",
   "name": "python",
   "nbconvert_exporter": "python",
   "pygments_lexer": "ipython3",
   "version": "3.8.2"
  },
  "varInspector": {
   "cols": {
    "lenName": 16,
    "lenType": 16,
    "lenVar": 40
   },
   "kernels_config": {
    "python": {
     "delete_cmd_postfix": "",
     "delete_cmd_prefix": "del ",
     "library": "var_list.py",
     "varRefreshCmd": "print(var_dic_list())"
    },
    "r": {
     "delete_cmd_postfix": ") ",
     "delete_cmd_prefix": "rm(",
     "library": "var_list.r",
     "varRefreshCmd": "cat(var_dic_list()) "
    }
   },
   "types_to_exclude": [
    "module",
    "function",
    "builtin_function_or_method",
    "instance",
    "_Feature"
   ],
   "window_display": false
  }
 },
 "nbformat": 4,
 "nbformat_minor": 4
}
