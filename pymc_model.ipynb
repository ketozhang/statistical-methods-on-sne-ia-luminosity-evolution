{
 "cells": [
  {
   "cell_type": "code",
   "execution_count": 1,
   "metadata": {},
   "outputs": [],
   "source": [
    "import os\n",
    "import numpy as np\n",
    "import pandas as pd\n",
    "import pymc3 as pm\n",
    "from scipy import stats\n",
    "\n",
    "import matplotlib as mpl\n",
    "import matplotlib.pyplot as plt\n",
    "import seaborn as sns\n",
    "\n",
    "from dataloader import *\n",
    "\n",
    "sns.set(style='ticks', context='talk')\n",
    "plt.style.use(\"paper.mplstyle\")\n",
    "\n",
    "np.random.seed(1032020)"
   ]
  },
  {
   "cell_type": "code",
   "execution_count": 2,
   "metadata": {},
   "outputs": [
    {
     "data": {
      "text/html": [
       "<div>\n",
       "<style scoped>\n",
       "    .dataframe tbody tr th:only-of-type {\n",
       "        vertical-align: middle;\n",
       "    }\n",
       "\n",
       "    .dataframe tbody tr th {\n",
       "        vertical-align: top;\n",
       "    }\n",
       "\n",
       "    .dataframe thead th {\n",
       "        text-align: right;\n",
       "    }\n",
       "</style>\n",
       "<table border=\"1\" class=\"dataframe\">\n",
       "  <thead>\n",
       "    <tr style=\"text-align: right;\">\n",
       "      <th></th>\n",
       "      <th>y</th>\n",
       "    </tr>\n",
       "  </thead>\n",
       "  <tbody>\n",
       "    <tr>\n",
       "      <th>0</th>\n",
       "      <td>1.340948</td>\n",
       "    </tr>\n",
       "    <tr>\n",
       "      <th>1</th>\n",
       "      <td>0.542309</td>\n",
       "    </tr>\n",
       "    <tr>\n",
       "      <th>2</th>\n",
       "      <td>2.210151</td>\n",
       "    </tr>\n",
       "    <tr>\n",
       "      <th>3</th>\n",
       "      <td>0.924678</td>\n",
       "    </tr>\n",
       "    <tr>\n",
       "      <th>4</th>\n",
       "      <td>1.056327</td>\n",
       "    </tr>\n",
       "  </tbody>\n",
       "</table>\n",
       "</div>"
      ],
      "text/plain": [
       "          y\n",
       "0  1.340948\n",
       "1  0.542309\n",
       "2  2.210151\n",
       "3  0.924678\n",
       "4  1.056327"
      ]
     },
     "metadata": {},
     "output_type": "display_data"
    }
   ],
   "source": [
    "size = 100\n",
    "true_intercept = 1\n",
    "true_slope = 2\n",
    "\n",
    "# x1 = stats.norm(1, 1).rvs(1000)\n",
    "# x2 = stats.norm(2, 1).rvs(1000)\n",
    "# x3 = stats.norm(3, 1).rvs(1000)\n",
    "\n",
    "x_true = np.linspace(0, 1, size) \n",
    "y_true = true_intercept + x_true * true_slope\n",
    "x1 = np.random.normal(loc=x_true, scale=0.2, size=(500, len(y_true)))\n",
    "x2 = np.random.normal(loc=x_true+1, scale=0.2, size=(500, len(y_true)))\n",
    "x = np.stack((x1, x2)).reshape(len(y_true), len(x1)+len(x2))\n",
    "\n",
    "\n",
    "sigma_y = np.abs(np.random.normal(loc=0.5, scale=0.1, size=len(y_true)))\n",
    "y_err = np.random.normal(scale=sigma_y, size=len(y_true))\n",
    "\n",
    "y = y_true + y_err\n",
    "\n",
    "display(pd.DataFrame({\"y\":y}).head())\n",
    "# plt.errorbar(x, y, yerr=sigma_y, fmt='ko', lw=0.5, ms=5)\n",
    "# plt.plot(x, y_true)"
   ]
  },
  {
   "cell_type": "code",
   "execution_count": null,
   "metadata": {},
   "outputs": [
    {
     "name": "stderr",
     "output_type": "stream",
     "text": [
      "Auto-assigning NUTS sampler...\n",
      "Initializing NUTS using jitter+adapt_diag...\n",
      "Multiprocess sampling (2 chains in 4 jobs)\n",
      "NUTS: [w, scatter, slope, intercept]\n"
     ]
    },
    {
     "data": {
      "text/html": [
       "\n",
       "    <div>\n",
       "        <style>\n",
       "            /* Turns off some styling */\n",
       "            progress {\n",
       "                /* gets rid of default border in Firefox and Opera. */\n",
       "                border: none;\n",
       "                /* Needs to be in here for Safari polyfill so background images work as expected. */\n",
       "                background-size: auto;\n",
       "            }\n",
       "            .progress-bar-interrupted, .progress-bar-interrupted::-webkit-progress-bar {\n",
       "                background: #F44336;\n",
       "            }\n",
       "        </style>\n",
       "      <progress value='771' class='' max='6000' style='width:300px; height:20px; vertical-align: middle;'></progress>\n",
       "      12.85% [771/6000 01:49<12:22 Sampling 2 chains, 0 divergences]\n",
       "    </div>\n",
       "    "
      ],
      "text/plain": [
       "<IPython.core.display.HTML object>"
      ]
     },
     "metadata": {},
     "output_type": "display_data"
    }
   ],
   "source": [
    "with pm.Model() as model:\n",
    "    intercept = pm.Uniform('intercept', 0, 5)\n",
    "    slope = pm.Uniform('slope', 0, 5)\n",
    "#     _sigma_x = pm.Uniform('sigma_x', 0, 1, shape=y.shape[0])\n",
    "    _sigma_y = pm.Uniform('sigma_y', 0, 1, shape=sigma_y.shape[0], observed=sigma_y)\n",
    "    scatter = pm.Uniform('scatter', 0, 5)\n",
    "    total_sigma = pm.Deterministic('sigma', pm.math.sqrt(_sigma_y**2 + scatter))\n",
    "    \n",
    "#     _x_true = pm.Uniform('x_true', 0, 1)\n",
    "    weight = pm.Dirichlet('w', a=np.array([1, 1]))\n",
    "    g1 = pm.Normal.dist(mu=x.mean(axis=1)-0.5, sigma=0.2)\n",
    "    g2 = pm.Normal.dist(mu=x.mean(axis=1)+0.5, sigma=0.2)\n",
    "\n",
    "    likelihood_x = pm.Mixture('x', w=weight, comp_dists=[g1, g2], observed=x.T, shape=y.shape[0])\n",
    "#     likelihood_x = pm.Normal('x', mu=x.mean(axis=1), sigma=x.std(axis=1), shape=y.shape[0])\n",
    "    \n",
    "    _y_true = pm.Deterministic('y_true', slope * likelihood_x + intercept)\n",
    "    likelihood_y = pm.Normal('y', mu=_y_true, sigma=total_sigma, observed=y)\n",
    "    \n",
    "    trace = pm.sample(1000, tune=2000, chains=2)"
   ]
  },
  {
   "cell_type": "code",
   "execution_count": null,
   "metadata": {},
   "outputs": [],
   "source": [
    "from corner import corner\n",
    "\n",
    "labels = [\"intercept\", \"slope\"]\n",
    "fig = plt.figure(figsize=(10, 10))\n",
    "corner(np.vstack([trace[k] for k in labels]).T, labels=labels, show_titles=True, truths=[true_intercept, true_slope], quantiles=stats.norm.cdf([-1, 0, 1]), fig=fig);\n",
    "\n",
    "# fig = plt.figure()\n",
    "# pm.traceplot(trace)"
   ]
  },
  {
   "cell_type": "code",
   "execution_count": null,
   "metadata": {},
   "outputs": [],
   "source": [
    "# plt.errorbar(x, y, yerr=sigma_y, fmt='ko', lw=0.5, ms=5)\n",
    "\n",
    "xrange = np.linspace(0, 1, 1000)\n",
    "idx = np.random.randint(0, len(trace), 500)\n",
    "\n",
    "plt.plot(xrange, true_intercept + true_slope * xrange, label=\"True\", zorder=100)\n",
    "for i in idx:\n",
    "    slope_est = trace.get_values('slope')[i]\n",
    "    intercept_est = trace.get_values('intercept')[i]\n",
    "    plt.plot(xrange, xrange*slope_est + intercept_est, color='k', lw=0.5)\n",
    "\n",
    "\n",
    "plt.legend();"
   ]
  }
 ],
 "metadata": {
  "kernelspec": {
   "display_name": "Python 3",
   "language": "python",
   "name": "python3"
  },
  "language_info": {
   "codemirror_mode": {
    "name": "ipython",
    "version": 3
   },
   "file_extension": ".py",
   "mimetype": "text/x-python",
   "name": "python",
   "nbconvert_exporter": "python",
   "pygments_lexer": "ipython3",
   "version": "3.8.6"
  }
 },
 "nbformat": 4,
 "nbformat_minor": 4
}
