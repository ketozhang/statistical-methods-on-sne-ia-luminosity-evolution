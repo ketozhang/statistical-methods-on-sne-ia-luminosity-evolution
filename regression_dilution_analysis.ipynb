{
 "cells": [
  {
   "cell_type": "code",
   "execution_count": 1,
   "metadata": {
    "execution": {
     "iopub.execute_input": "2020-09-07T02:52:30.481810Z",
     "iopub.status.busy": "2020-09-07T02:52:30.481517Z",
     "iopub.status.idle": "2020-09-07T02:52:31.721771Z",
     "shell.execute_reply": "2020-09-07T02:52:31.720353Z",
     "shell.execute_reply.started": "2020-09-07T02:52:30.481775Z"
    }
   },
   "outputs": [],
   "source": [
    "import numpy as np\n",
    "import pandas as pd\n",
    "from astropy.io import ascii\n",
    "from scipy import stats\n",
    "\n",
    "import matplotlib as mpl\n",
    "import matplotlib.pyplot as plt\n",
    "import seaborn as sns\n",
    "\n",
    "np.random.seed(9620)\n",
    "sns.set(style='ticks', context='talk')\n",
    "plt.style.use(\"paper.mplstyle\")"
   ]
  },
  {
   "cell_type": "markdown",
   "metadata": {},
   "source": [
    "## Population Definition"
   ]
  },
  {
   "cell_type": "markdown",
   "metadata": {},
   "source": [
    "### Linear Model"
   ]
  },
  {
   "cell_type": "code",
   "execution_count": 2,
   "metadata": {
    "execution": {
     "iopub.execute_input": "2020-09-07T02:52:31.723674Z",
     "iopub.status.busy": "2020-09-07T02:52:31.723441Z",
     "iopub.status.idle": "2020-09-07T02:52:31.728684Z",
     "shell.execute_reply": "2020-09-07T02:52:31.727480Z",
     "shell.execute_reply.started": "2020-09-07T02:52:31.723647Z"
    }
   },
   "outputs": [],
   "source": [
    "def f(x, m, b):\n",
    "    return m*x + b\n",
    "\n",
    "# size = 100000\n",
    "# m = 0.75\n",
    "# b = 0\n",
    "\n",
    "# x = np.linspace(0, 1, size)\n",
    "# sort_idx = np.argsort(x)\n",
    "# y = f(x, m, b)[sort_idx]\n"
   ]
  },
  {
   "cell_type": "markdown",
   "metadata": {},
   "source": [
    "### Bivariate Normal"
   ]
  },
  {
   "cell_type": "code",
   "execution_count": 3,
   "metadata": {
    "execution": {
     "iopub.execute_input": "2020-09-07T02:52:31.730652Z",
     "iopub.status.busy": "2020-09-07T02:52:31.730396Z",
     "iopub.status.idle": "2020-09-07T02:52:31.868547Z",
     "shell.execute_reply": "2020-09-07T02:52:31.867382Z",
     "shell.execute_reply.started": "2020-09-07T02:52:31.730624Z"
    }
   },
   "outputs": [
    {
     "name": "stdout",
     "output_type": "stream",
     "text": [
      "Population Correlation: 0.25009924154069596\n"
     ]
    }
   ],
   "source": [
    "size = 1000000\n",
    "rho_xy = 0.25\n",
    "sigma_x = 1\n",
    "sigma_y = 1\n",
    "cov_xy = rho_xy * (sigma_x * sigma_y)\n",
    "cov = np.array([[1,   cov_xy], \n",
    "                [cov_xy,   1]])\n",
    "m = rho_xy * (cov[1,1] / cov[0,0])\n",
    "b = 0\n",
    "\n",
    "population_dist = stats.multivariate_normal(cov=cov)\n",
    "population_sample = population_dist.rvs(size)\n",
    "x, y = population_sample[:, 0], population_sample[:, 1]\n",
    "\n",
    "print(\"Population Correlation:\", stats.pearsonr(x, y)[0])"
   ]
  },
  {
   "cell_type": "markdown",
   "metadata": {},
   "source": [
    "## Measurement Sample 1\n",
    "\n",
    "Both x and y has single value errors with error ratio of 1."
   ]
  },
  {
   "cell_type": "code",
   "execution_count": 4,
   "metadata": {
    "execution": {
     "iopub.execute_input": "2020-09-07T02:52:31.873726Z",
     "iopub.status.busy": "2020-09-07T02:52:31.873471Z",
     "iopub.status.idle": "2020-09-07T02:52:32.245353Z",
     "shell.execute_reply": "2020-09-07T02:52:32.244032Z",
     "shell.execute_reply.started": "2020-09-07T02:52:31.873693Z"
    }
   },
   "outputs": [
    {
     "data": {
      "text/html": [
       "<div>\n",
       "<style scoped>\n",
       "    .dataframe tbody tr th:only-of-type {\n",
       "        vertical-align: middle;\n",
       "    }\n",
       "\n",
       "    .dataframe tbody tr th {\n",
       "        vertical-align: top;\n",
       "    }\n",
       "\n",
       "    .dataframe thead th {\n",
       "        text-align: right;\n",
       "    }\n",
       "</style>\n",
       "<table border=\"1\" class=\"dataframe\">\n",
       "  <thead>\n",
       "    <tr style=\"text-align: right;\">\n",
       "      <th></th>\n",
       "      <th>x</th>\n",
       "      <th>xerr</th>\n",
       "      <th>y</th>\n",
       "      <th>yerr</th>\n",
       "    </tr>\n",
       "  </thead>\n",
       "  <tbody>\n",
       "    <tr>\n",
       "      <th>45</th>\n",
       "      <td>-2.862730</td>\n",
       "      <td>0.1</td>\n",
       "      <td>0.096562</td>\n",
       "      <td>0.1</td>\n",
       "    </tr>\n",
       "    <tr>\n",
       "      <th>23</th>\n",
       "      <td>-2.517869</td>\n",
       "      <td>0.1</td>\n",
       "      <td>-1.919216</td>\n",
       "      <td>0.1</td>\n",
       "    </tr>\n",
       "    <tr>\n",
       "      <th>22</th>\n",
       "      <td>-1.859305</td>\n",
       "      <td>0.1</td>\n",
       "      <td>-0.135900</td>\n",
       "      <td>0.1</td>\n",
       "    </tr>\n",
       "    <tr>\n",
       "      <th>31</th>\n",
       "      <td>-1.797351</td>\n",
       "      <td>0.1</td>\n",
       "      <td>-1.101550</td>\n",
       "      <td>0.1</td>\n",
       "    </tr>\n",
       "    <tr>\n",
       "      <th>0</th>\n",
       "      <td>-1.691101</td>\n",
       "      <td>0.1</td>\n",
       "      <td>-1.509843</td>\n",
       "      <td>0.1</td>\n",
       "    </tr>\n",
       "  </tbody>\n",
       "</table>\n",
       "</div>"
      ],
      "text/plain": [
       "           x  xerr         y  yerr\n",
       "45 -2.862730   0.1  0.096562   0.1\n",
       "23 -2.517869   0.1 -1.919216   0.1\n",
       "22 -1.859305   0.1 -0.135900   0.1\n",
       "31 -1.797351   0.1 -1.101550   0.1\n",
       "0  -1.691101   0.1 -1.509843   0.1"
      ]
     },
     "execution_count": 4,
     "metadata": {},
     "output_type": "execute_result"
    },
    {
     "data": {
      "image/png": "[encoded data removed]",
      "text/plain": [
       "<Figure size 720x432 with 1 Axes>"
      ]
     },
     "metadata": {},
     "output_type": "display_data"
    }
   ],
   "source": [
    "data_size = 50\n",
    "data_idx = np.random.randint(0, size, size=data_size)\n",
    "\n",
    "# sigma_x = np.random.uniform(low=0, high=0.5, size=data_size)\n",
    "# sigma_y = np.random.uniform(low=0, high=0.1, size=data_size)\n",
    "sigma_x = [0.1]*data_size\n",
    "sigma_y = [0.1]*data_size\n",
    "xerr = stats.norm(loc=0, scale=sigma_x).rvs(data_size)\n",
    "yerr = stats.norm(loc=0, scale=sigma_y).rvs(data_size)\n",
    "xdata = x[data_idx] + xerr\n",
    "ydata = y[data_idx] + yerr\n",
    "\n",
    "df1 = pd.DataFrame(\n",
    "    {\n",
    "        \"x\": xdata,\n",
    "        \"xerr\": sigma_x,\n",
    "        \"y\": ydata,\n",
    "        \"yerr\": sigma_y,\n",
    "    }\n",
    ").sort_values('x')\n",
    "\n",
    "plt.errorbar(df1.x, df1.y, yerr=df1.yerr, xerr=df1.xerr, c='k', fmt='.', elinewidth=2, capsize=4)\n",
    "df1.head()"
   ]
  },
  {
   "cell_type": "markdown",
   "metadata": {},
   "source": [
    "## Measurement Sample 2\n",
    "\n",
    "Both x and y has single value errors with error ratio x of y being 5"
   ]
  },
  {
   "cell_type": "code",
   "execution_count": 5,
   "metadata": {
    "execution": {
     "iopub.execute_input": "2020-09-07T02:52:32.247122Z",
     "iopub.status.busy": "2020-09-07T02:52:32.246775Z",
     "iopub.status.idle": "2020-09-07T02:52:32.623114Z",
     "shell.execute_reply": "2020-09-07T02:52:32.621614Z",
     "shell.execute_reply.started": "2020-09-07T02:52:32.247090Z"
    }
   },
   "outputs": [
    {
     "data": {
      "text/html": [
       "<div>\n",
       "<style scoped>\n",
       "    .dataframe tbody tr th:only-of-type {\n",
       "        vertical-align: middle;\n",
       "    }\n",
       "\n",
       "    .dataframe tbody tr th {\n",
       "        vertical-align: top;\n",
       "    }\n",
       "\n",
       "    .dataframe thead th {\n",
       "        text-align: right;\n",
       "    }\n",
       "</style>\n",
       "<table border=\"1\" class=\"dataframe\">\n",
       "  <thead>\n",
       "    <tr style=\"text-align: right;\">\n",
       "      <th></th>\n",
       "      <th>x</th>\n",
       "      <th>xerr</th>\n",
       "      <th>y</th>\n",
       "      <th>yerr</th>\n",
       "    </tr>\n",
       "  </thead>\n",
       "  <tbody>\n",
       "    <tr>\n",
       "      <th>27</th>\n",
       "      <td>-3.195819</td>\n",
       "      <td>0.5</td>\n",
       "      <td>0.153477</td>\n",
       "      <td>0.1</td>\n",
       "    </tr>\n",
       "    <tr>\n",
       "      <th>40</th>\n",
       "      <td>-3.026226</td>\n",
       "      <td>0.5</td>\n",
       "      <td>-2.429675</td>\n",
       "      <td>0.1</td>\n",
       "    </tr>\n",
       "    <tr>\n",
       "      <th>20</th>\n",
       "      <td>-2.726002</td>\n",
       "      <td>0.5</td>\n",
       "      <td>-1.584838</td>\n",
       "      <td>0.1</td>\n",
       "    </tr>\n",
       "    <tr>\n",
       "      <th>43</th>\n",
       "      <td>-2.522525</td>\n",
       "      <td>0.5</td>\n",
       "      <td>-0.714791</td>\n",
       "      <td>0.1</td>\n",
       "    </tr>\n",
       "    <tr>\n",
       "      <th>15</th>\n",
       "      <td>-2.307793</td>\n",
       "      <td>0.5</td>\n",
       "      <td>-0.047916</td>\n",
       "      <td>0.1</td>\n",
       "    </tr>\n",
       "  </tbody>\n",
       "</table>\n",
       "</div>"
      ],
      "text/plain": [
       "           x  xerr         y  yerr\n",
       "27 -3.195819   0.5  0.153477   0.1\n",
       "40 -3.026226   0.5 -2.429675   0.1\n",
       "20 -2.726002   0.5 -1.584838   0.1\n",
       "43 -2.522525   0.5 -0.714791   0.1\n",
       "15 -2.307793   0.5 -0.047916   0.1"
      ]
     },
     "execution_count": 5,
     "metadata": {},
     "output_type": "execute_result"
    },
    {
     "data": {
      "image/png": "[encoded data removed]",
      "text/plain": [
       "<Figure size 720x432 with 1 Axes>"
      ]
     },
     "metadata": {},
     "output_type": "display_data"
    }
   ],
   "source": [
    "data_size = 50\n",
    "data_idx = np.random.randint(0, size, size=data_size)\n",
    "\n",
    "# sigma_x = np.random.uniform(low=0, high=0.5, size=data_size)\n",
    "# sigma_y = np.random.uniform(low=0, high=0.1, size=data_size)\n",
    "sigma_x = [0.5]*data_size\n",
    "sigma_y = [0.1]*data_size\n",
    "xerr = stats.norm(loc=0, scale=sigma_x).rvs(data_size)\n",
    "yerr = stats.norm(loc=0, scale=sigma_y).rvs(data_size)\n",
    "xdata = x[data_idx] + xerr\n",
    "ydata = y[data_idx] + yerr\n",
    "\n",
    "df2 = pd.DataFrame(\n",
    "    {\n",
    "        \"x\": xdata,\n",
    "        \"xerr\": sigma_x,\n",
    "        \"y\": ydata,\n",
    "        \"yerr\": sigma_y,\n",
    "    }\n",
    ").sort_values('x')\n",
    "\n",
    "plt.errorbar(df2.x, df2.y, yerr=df2.yerr, xerr=df2.xerr, c='k', fmt='.', elinewidth=2, capsize=4)\n",
    "df2.head()"
   ]
  },
  {
   "cell_type": "markdown",
   "metadata": {},
   "source": [
    "## Measurement Sample 3\n",
    "\n",
    "Both x and y has errors of variance uniformly assigned. The error ratio is about 5"
   ]
  },
  {
   "cell_type": "code",
   "execution_count": 6,
   "metadata": {
    "execution": {
     "iopub.execute_input": "2020-09-07T02:52:32.624645Z",
     "iopub.status.busy": "2020-09-07T02:52:32.624419Z",
     "iopub.status.idle": "2020-09-07T02:52:32.993116Z",
     "shell.execute_reply": "2020-09-07T02:52:32.991650Z",
     "shell.execute_reply.started": "2020-09-07T02:52:32.624618Z"
    }
   },
   "outputs": [
    {
     "data": {
      "text/html": [
       "<div>\n",
       "<style scoped>\n",
       "    .dataframe tbody tr th:only-of-type {\n",
       "        vertical-align: middle;\n",
       "    }\n",
       "\n",
       "    .dataframe tbody tr th {\n",
       "        vertical-align: top;\n",
       "    }\n",
       "\n",
       "    .dataframe thead th {\n",
       "        text-align: right;\n",
       "    }\n",
       "</style>\n",
       "<table border=\"1\" class=\"dataframe\">\n",
       "  <thead>\n",
       "    <tr style=\"text-align: right;\">\n",
       "      <th></th>\n",
       "      <th>x</th>\n",
       "      <th>xerr</th>\n",
       "      <th>y</th>\n",
       "      <th>yerr</th>\n",
       "    </tr>\n",
       "  </thead>\n",
       "  <tbody>\n",
       "    <tr>\n",
       "      <th>43</th>\n",
       "      <td>-1.977897</td>\n",
       "      <td>0.016251</td>\n",
       "      <td>-1.105455</td>\n",
       "      <td>0.089907</td>\n",
       "    </tr>\n",
       "    <tr>\n",
       "      <th>12</th>\n",
       "      <td>-1.870961</td>\n",
       "      <td>0.370347</td>\n",
       "      <td>-0.058519</td>\n",
       "      <td>0.099778</td>\n",
       "    </tr>\n",
       "    <tr>\n",
       "      <th>49</th>\n",
       "      <td>-1.409371</td>\n",
       "      <td>0.385497</td>\n",
       "      <td>0.957041</td>\n",
       "      <td>0.089890</td>\n",
       "    </tr>\n",
       "    <tr>\n",
       "      <th>39</th>\n",
       "      <td>-1.266031</td>\n",
       "      <td>0.237852</td>\n",
       "      <td>0.295061</td>\n",
       "      <td>0.019503</td>\n",
       "    </tr>\n",
       "    <tr>\n",
       "      <th>13</th>\n",
       "      <td>-0.886445</td>\n",
       "      <td>0.112282</td>\n",
       "      <td>-0.714295</td>\n",
       "      <td>0.081949</td>\n",
       "    </tr>\n",
       "  </tbody>\n",
       "</table>\n",
       "</div>"
      ],
      "text/plain": [
       "           x      xerr         y      yerr\n",
       "43 -1.977897  0.016251 -1.105455  0.089907\n",
       "12 -1.870961  0.370347 -0.058519  0.099778\n",
       "49 -1.409371  0.385497  0.957041  0.089890\n",
       "39 -1.266031  0.237852  0.295061  0.019503\n",
       "13 -0.886445  0.112282 -0.714295  0.081949"
      ]
     },
     "execution_count": 6,
     "metadata": {},
     "output_type": "execute_result"
    },
    {
     "data": {
      "image/png": "[encoded data removed]",
      "text/plain": [
       "<Figure size 720x432 with 1 Axes>"
      ]
     },
     "metadata": {},
     "output_type": "display_data"
    }
   ],
   "source": [
    "data_size = 50\n",
    "data_idx = np.random.randint(0, size, size=data_size)\n",
    "\n",
    "sigma_x = np.random.uniform(low=0, high=0.5, size=data_size)\n",
    "sigma_y = np.random.uniform(low=0, high=0.1, size=data_size)\n",
    "xerr = stats.norm(loc=0, scale=sigma_x).rvs(data_size)\n",
    "yerr = stats.norm(loc=0, scale=sigma_y).rvs(data_size)\n",
    "xdata = x[data_idx] + xerr\n",
    "ydata = y[data_idx] + yerr\n",
    "\n",
    "df3 = pd.DataFrame(\n",
    "    {\n",
    "        \"x\": xdata,\n",
    "        \"xerr\": sigma_x,\n",
    "        \"y\": ydata,\n",
    "        \"yerr\": sigma_y,\n",
    "    }\n",
    ").sort_values('x')\n",
    "\n",
    "plt.errorbar(df3.x, df3.y, yerr=df3.yerr, xerr=df3.xerr, c='k', fmt='.', elinewidth=2, capsize=4)\n",
    "df3.head()"
   ]
  },
  {
   "cell_type": "markdown",
   "metadata": {},
   "source": [
    "## Regression Dilution in OLS"
   ]
  },
  {
   "cell_type": "code",
   "execution_count": 7,
   "metadata": {
    "execution": {
     "iopub.execute_input": "2020-09-07T02:52:32.994758Z",
     "iopub.status.busy": "2020-09-07T02:52:32.994502Z",
     "iopub.status.idle": "2020-09-07T02:52:34.248231Z",
     "shell.execute_reply": "2020-09-07T02:52:34.246795Z",
     "shell.execute_reply.started": "2020-09-07T02:52:32.994727Z"
    }
   },
   "outputs": [
    {
     "data": {
      "text/plain": [
       "<matplotlib.legend.Legend at 0x7f9f6aba08e0>"
      ]
     },
     "execution_count": 7,
     "metadata": {},
     "output_type": "execute_result"
    },
    {
     "data": {
      "image/png": "[encoded data removed]",
      "text/plain": [
       "<Figure size 720x432 with 1 Axes>"
      ]
     },
     "metadata": {},
     "output_type": "display_data"
    },
    {
     "data": {
      "image/png": "[encoded data removed]",
      "text/plain": [
       "<Figure size 720x432 with 1 Axes>"
      ]
     },
     "metadata": {},
     "output_type": "display_data"
    },
    {
     "data": {
      "image/png": "[encoded data removed]",
      "text/plain": [
       "<Figure size 720x432 with 1 Axes>"
      ]
     },
     "metadata": {},
     "output_type": "display_data"
    }
   ],
   "source": [
    "def get_slope_parameter(x, y):\n",
    "    \"\"\"Return the mean and variance of the OLS slope parameter\"\"\"\n",
    "    corr = stats.pearsonr(x, y)[0]\n",
    "    slope = corr * (np.std(y) / np.std(x))\n",
    "    \n",
    "    sigma2 = (np.var(y)**2 + np.var(x)**2)\n",
    "    slope_var = sigma2 / np.sum((x-np.mean(x))**2)\n",
    "    \n",
    "    return slope, slope_var\n",
    "\n",
    "def get_intercept_parameter(x, y, slope):\n",
    "    \"\"\"Return the mean of the OLS intercept parameter\"\"\"\n",
    "    corr = stats.pearsonr(x, y)[0]\n",
    "    intercept = np.mean(y) - slope*np.mean(x)\n",
    "    \n",
    "    return intercept\n",
    "\n",
    "slope, slope_var = get_slope_parameter(df1.x, df1.y)\n",
    "intercept = get_intercept_parameter(df1.x, df1.y, slope)\n",
    "xrange = np.linspace(-4, 4, 100)\n",
    "plt.figure()\n",
    "plt.errorbar(df1.x, df1.y, yerr=df1.yerr, xerr=df1.xerr, c='k', fmt='.', elinewidth=2, capsize=4)\n",
    "plt.plot(xrange, f(xrange, slope, intercept), c='b', label=\"OLS\")\n",
    "plt.plot(xrange, f(xrange, m, b), c='g', label=\"Truth\")\n",
    "plt.legend()\n",
    "\n",
    "slope, slope_var = get_slope_parameter(df2.x, df2.y)\n",
    "intercept = get_intercept_parameter(df2.x, df2.y, slope)\n",
    "xrange = np.linspace(-4, 4, 100)\n",
    "plt.figure()\n",
    "plt.errorbar(df2.x, df2.y, yerr=df2.yerr, xerr=df2.xerr, c='k', fmt='.', elinewidth=2, capsize=4)\n",
    "plt.plot(xrange, f(xrange, slope, intercept), c='b', label=\"OLS\")\n",
    "plt.plot(xrange, f(xrange, m, b), c='g', label=\"Truth\")\n",
    "plt.legend()\n",
    "\n",
    "slope, slope_var = get_slope_parameter(df3.x, df3.y)\n",
    "intercept = get_intercept_parameter(df3.x, df3.y, slope)\n",
    "xrange = np.linspace(-4, 4, 100)\n",
    "plt.figure()\n",
    "plt.errorbar(df3.x, df3.y, yerr=df3.yerr, xerr=df3.xerr, c='k', fmt='.', elinewidth=2, capsize=4)\n",
    "plt.plot(xrange, f(xrange, slope, intercept), c='b', label=\"OLS\")\n",
    "plt.plot(xrange, f(xrange, m, b), c='g', label=\"Truth\")\n",
    "plt.legend()"
   ]
  },
  {
   "cell_type": "markdown",
   "metadata": {},
   "source": [
    "## Regression Dilution in Simulation"
   ]
  },
  {
   "cell_type": "code",
   "execution_count": 8,
   "metadata": {
    "execution": {
     "iopub.execute_input": "2020-09-07T02:52:34.249901Z",
     "iopub.status.busy": "2020-09-07T02:52:34.249637Z",
     "iopub.status.idle": "2020-09-07T02:52:35.576290Z",
     "shell.execute_reply": "2020-09-07T02:52:35.574929Z",
     "shell.execute_reply.started": "2020-09-07T02:52:34.249869Z"
    }
   },
   "outputs": [],
   "source": [
    "def simulate(x, y, xerr, yerr, sample_size=10000):\n",
    "    \n",
    "    xsample = []\n",
    "    ysample = []\n",
    "    for i in range(len(x)):\n",
    "        xdist = stats.norm(loc=x[i], scale=xerr[i])\n",
    "        ydist = stats.norm(loc=y[i], scale=yerr[i])\n",
    "        \n",
    "        xsample.extend(xdist.rvs(size=sample_size))\n",
    "        ysample.extend(ydist.rvs(size=sample_size))\n",
    "    \n",
    "    df = pd.DataFrame({\n",
    "        \"x\": xsample,\n",
    "        \"y\": ysample\n",
    "    })\n",
    "    \n",
    "    return df\n",
    "\n",
    "\n",
    "s1_df = simulate(df1.x, df1.y, df1.xerr, df1.yerr)\n",
    "s2_df = simulate(df2.x, df2.y, df2.xerr, df2.yerr)\n",
    "s3_df = simulate(df3.x, df3.y, df3.xerr, df3.yerr)\n",
    "\n",
    "small_s1_df = simulate(df1.x, df1.y, df1.xerr, df1.yerr, sample_size=50)\n",
    "small_s2_df = simulate(df2.x, df2.y, df2.xerr, df2.yerr, sample_size=50)\n",
    "small_s3_df = simulate(df3.x, df3.y, df3.xerr, df3.yerr, sample_size=50)"
   ]
  },
  {
   "cell_type": "markdown",
   "metadata": {},
   "source": [
    "## Regression Dilution in LINMIX"
   ]
  },
  {
   "cell_type": "code",
   "execution_count": 9,
   "metadata": {
    "execution": {
     "iopub.execute_input": "2020-09-07T02:52:35.578777Z",
     "iopub.status.busy": "2020-09-07T02:52:35.578557Z",
     "iopub.status.idle": "2020-09-07T02:53:16.643207Z",
     "shell.execute_reply": "2020-09-07T02:53:16.641465Z",
     "shell.execute_reply.started": "2020-09-07T02:52:35.578750Z"
    }
   },
   "outputs": [],
   "source": [
    "from linmix import linmix\n",
    "\n",
    "lm1 = linmix.LinMix(df1.x, df1.y, df1.xerr, df1.yerr, K=3)\n",
    "lm1.run_mcmc(silent=True)\n",
    "\n",
    "lm2 = linmix.LinMix(df2.x, df2.y, df2.xerr, df2.yerr, K=3)\n",
    "lm2.run_mcmc(silent=True)\n",
    "\n",
    "lm3 = linmix.LinMix(df3.x, df3.y, df3.xerr, df3.yerr, K=3)\n",
    "lm3.run_mcmc(silent=True)"
   ]
  },
  {
   "cell_type": "code",
   "execution_count": null,
   "metadata": {
    "execution": {
     "iopub.execute_input": "2020-09-07T02:54:13.271334Z",
     "iopub.status.busy": "2020-09-07T02:54:13.271028Z"
    }
   },
   "outputs": [
    {
     "ename": "TypeError",
     "evalue": "unsupported operand type(s) for -: 'method' and 'float'",
     "output_type": "error",
     "traceback": [
      "\u001b[0;31m---------------------------------------------------------------------------\u001b[0m",
      "\u001b[0;31mTypeError\u001b[0m                                 Traceback (most recent call last)",
      "\u001b[0;32m<ipython-input-11-7eb0423848b0>\u001b[0m in \u001b[0;36m<module>\u001b[0;34m\u001b[0m\n\u001b[1;32m     88\u001b[0m \u001b[0;34m\u001b[0m\u001b[0m\n\u001b[1;32m     89\u001b[0m \u001b[0;34m\u001b[0m\u001b[0m\n\u001b[0;32m---> 90\u001b[0;31m \u001b[0msummary_plot\u001b[0m\u001b[0;34m(\u001b[0m\u001b[0mdf1\u001b[0m\u001b[0;34m,\u001b[0m \u001b[0ms1_df\u001b[0m\u001b[0;34m,\u001b[0m \u001b[0msmall_s1_df\u001b[0m\u001b[0;34m,\u001b[0m \u001b[0mtitle\u001b[0m\u001b[0;34m=\u001b[0m\u001b[0;34m\"Measurement Sample 1\"\u001b[0m\u001b[0;34m)\u001b[0m\u001b[0;34m;\u001b[0m\u001b[0;34m\u001b[0m\u001b[0;34m\u001b[0m\u001b[0m\n\u001b[0m\u001b[1;32m     91\u001b[0m \u001b[0msummary_plot\u001b[0m\u001b[0;34m(\u001b[0m\u001b[0mdf2\u001b[0m\u001b[0;34m,\u001b[0m \u001b[0ms2_df\u001b[0m\u001b[0;34m,\u001b[0m \u001b[0msmall_s2_df\u001b[0m\u001b[0;34m,\u001b[0m \u001b[0mtitle\u001b[0m\u001b[0;34m=\u001b[0m\u001b[0;34m\"Measurement Sample 2\"\u001b[0m\u001b[0;34m)\u001b[0m\u001b[0;34m;\u001b[0m\u001b[0;34m\u001b[0m\u001b[0;34m\u001b[0m\u001b[0m\n\u001b[1;32m     92\u001b[0m \u001b[0msummary_plot\u001b[0m\u001b[0;34m(\u001b[0m\u001b[0mdf3\u001b[0m\u001b[0;34m,\u001b[0m \u001b[0ms3_df\u001b[0m\u001b[0;34m,\u001b[0m \u001b[0msmall_s3_df\u001b[0m\u001b[0;34m,\u001b[0m \u001b[0mtitle\u001b[0m\u001b[0;34m=\u001b[0m\u001b[0;34m\"Measurement Sample 3\"\u001b[0m\u001b[0;34m)\u001b[0m\u001b[0;34m;\u001b[0m\u001b[0;34m\u001b[0m\u001b[0;34m\u001b[0m\u001b[0m\n",
      "\u001b[0;32m<ipython-input-11-7eb0423848b0>\u001b[0m in \u001b[0;36msummary_plot\u001b[0;34m(df, s_df, small_s_df, title)\u001b[0m\n\u001b[1;32m     82\u001b[0m     \u001b[0msummary_df\u001b[0m\u001b[0;34m[\u001b[0m\u001b[0;34m\"rmse rank\"\u001b[0m\u001b[0;34m]\u001b[0m \u001b[0;34m=\u001b[0m \u001b[0mstats\u001b[0m\u001b[0;34m.\u001b[0m\u001b[0mrankdata\u001b[0m\u001b[0;34m(\u001b[0m\u001b[0msummary_df\u001b[0m\u001b[0;34m.\u001b[0m\u001b[0mrmse\u001b[0m\u001b[0;34m,\u001b[0m \u001b[0mmethod\u001b[0m\u001b[0;34m=\u001b[0m\u001b[0;34m\"ordinal\"\u001b[0m\u001b[0;34m)\u001b[0m\u001b[0;34m\u001b[0m\u001b[0;34m\u001b[0m\u001b[0m\n\u001b[1;32m     83\u001b[0m     \u001b[0msummary_df\u001b[0m\u001b[0;34m[\u001b[0m\u001b[0;34m\"trmse rank\"\u001b[0m\u001b[0;34m]\u001b[0m \u001b[0;34m=\u001b[0m \u001b[0mstats\u001b[0m\u001b[0;34m.\u001b[0m\u001b[0mrankdata\u001b[0m\u001b[0;34m(\u001b[0m\u001b[0msummary_df\u001b[0m\u001b[0;34m.\u001b[0m\u001b[0mtrmse\u001b[0m\u001b[0;34m,\u001b[0m \u001b[0mmethod\u001b[0m\u001b[0;34m=\u001b[0m\u001b[0;34m\"ordinal\"\u001b[0m\u001b[0;34m)\u001b[0m\u001b[0;34m\u001b[0m\u001b[0;34m\u001b[0m\u001b[0m\n\u001b[0;32m---> 84\u001b[0;31m     \u001b[0msummary_df\u001b[0m\u001b[0;34m[\u001b[0m\u001b[0;34m\"corr rank\"\u001b[0m\u001b[0;34m]\u001b[0m \u001b[0;34m=\u001b[0m \u001b[0mstats\u001b[0m\u001b[0;34m.\u001b[0m\u001b[0mrankdata\u001b[0m\u001b[0;34m(\u001b[0m\u001b[0;34m(\u001b[0m\u001b[0msummary_df\u001b[0m\u001b[0;34m.\u001b[0m\u001b[0mcorr\u001b[0m \u001b[0;34m-\u001b[0m \u001b[0mrho_xy\u001b[0m\u001b[0;34m)\u001b[0m\u001b[0;34m,\u001b[0m \u001b[0mmethod\u001b[0m\u001b[0;34m=\u001b[0m\u001b[0;34m\"ordinal\"\u001b[0m\u001b[0;34m)\u001b[0m\u001b[0;34m\u001b[0m\u001b[0;34m\u001b[0m\u001b[0m\n\u001b[0m\u001b[1;32m     85\u001b[0m     \u001b[0msummary_df\u001b[0m\u001b[0;34m=\u001b[0m \u001b[0msummary_df\u001b[0m\u001b[0;34m.\u001b[0m\u001b[0mset_index\u001b[0m\u001b[0;34m(\u001b[0m\u001b[0;34m\"method\"\u001b[0m\u001b[0;34m)\u001b[0m\u001b[0;34m\u001b[0m\u001b[0;34m\u001b[0m\u001b[0m\n\u001b[1;32m     86\u001b[0m     \u001b[0mdisplay\u001b[0m\u001b[0;34m(\u001b[0m\u001b[0msummary_df\u001b[0m\u001b[0;34m[\u001b[0m\u001b[0;34m[\u001b[0m\u001b[0;34m\"rmse\"\u001b[0m\u001b[0;34m,\u001b[0m \u001b[0;34m\"rmse rank\"\u001b[0m\u001b[0;34m,\u001b[0m \u001b[0;34m\"trmse\"\u001b[0m\u001b[0;34m,\u001b[0m \u001b[0;34m\"trmse rank\"\u001b[0m\u001b[0;34m,\u001b[0m \u001b[0;34m\"corr\"\u001b[0m\u001b[0;34m]\u001b[0m\u001b[0;34m]\u001b[0m\u001b[0;34m)\u001b[0m\u001b[0;34m\u001b[0m\u001b[0;34m\u001b[0m\u001b[0m\n",
      "\u001b[0;31mTypeError\u001b[0m: unsupported operand type(s) for -: 'method' and 'float'"
     ]
    }
   ],
   "source": [
    "def rmse(y, ypred):\n",
    "    return np.mean((y - ypred)**2)\n",
    "\n",
    "def slope_to_corr(x, y, slope):\n",
    "    return slope * (np.var(x) / np.var(y))\n",
    "\n",
    "def summary_plot(df, s_df, small_s_df, title=\"\"):\n",
    "    fig, axes = plt.subplots(nrows=2, figsize=(16, 10), sharex=True, gridspec_kw={'height_ratios': [3, 2]})\n",
    "    fig.suptitle(title)\n",
    "    ax1, ax2 = axes\n",
    "    summary = []\n",
    "\n",
    "    # Ordinary Least Squares\n",
    "    slope, slope_var = get_slope_parameter(df1.x, df1.y)\n",
    "    intercept = get_intercept_parameter(df1.x, df1.y, slope)\n",
    "    xrange = np.linspace(-4, 4, 100)\n",
    "\n",
    "    ax1.errorbar(df.x, df.y, yerr=df.yerr, xerr=df.xerr, c='k', fmt='.', elinewidth=2, capsize=4)\n",
    "    ax1.plot(xrange, f(xrange, slope, intercept), label=\"OLS\")\n",
    "    ypred = slope*df.x + intercept\n",
    "    ax2.plot(df.x, df.y - ypred, marker='.', lw=2)\n",
    "\n",
    "    summary.append({\n",
    "        \"method\": \"OLS\",\n",
    "        \"rmse\": rmse(df.y, ypred),\n",
    "        \"trmse\": rmse(y, slope*x+intercept),\n",
    "        \"corr\": slope_to_corr(df.x, df.y, slope)\n",
    "    })\n",
    "\n",
    "\n",
    "    # Simulation 10000\n",
    "    slope, slope_var = get_slope_parameter(s_df.x, s_df.y)\n",
    "    intercept = get_intercept_parameter(s_df.x, s_df.y, slope)\n",
    "    xrange = np.linspace(-4, 4, 100)\n",
    "    ax1.plot(xrange, f(xrange, slope, intercept), label=\"Simulated Regression (size 10000)\")\n",
    "    ypred = slope*df.x + intercept\n",
    "    ax2.plot(df.x, df.y - ypred, marker='.', lw=2)\n",
    "    \n",
    "    summary.append({\n",
    "        \"method\": \"Simulation 10000\",\n",
    "        \"rmse\": rmse(df.y, ypred),\n",
    "        \"trmse\": rmse(y, slope*x+intercept),\n",
    "        \"corr\": slope_to_corr(df.x, df.y, slope)\n",
    "    })\n",
    "\n",
    "    slope, slope_var = get_slope_parameter(small_s_df.x, small_s_df.y)\n",
    "    intercept = get_intercept_parameter(small_s_df.x, small_s_df.y, slope)\n",
    "    xrange = np.linspace(-4, 4, 100)\n",
    "    ax1.plot(xrange, f(xrange, slope, intercept), label=\"Simulated Regression (size 50)\")\n",
    "    ypred = slope*df.x + intercept\n",
    "    ax2.plot(df.x, df.y - ypred, marker='.', lw=2)\n",
    "\n",
    "    summary.append({\n",
    "        \"method\": \"Simulation 50\",\n",
    "        \"rmse\": rmse(df.y, ypred),\n",
    "        \"trmse\": rmse(y, slope*x+intercept),\n",
    "        \"corr\": slope_to_corr(df.x, df.y, slope)\n",
    "    })\n",
    "\n",
    "    slope, intercept = np.mean(lm1.chain['beta']), np.mean(lm1.chain['alpha'])\n",
    "    xrange = np.linspace(-4, 4, 100)\n",
    "    ax1.plot(xrange, f(xrange, slope, intercept), label=\"LINMIX\")\n",
    "    ypred = slope*df.x + intercept\n",
    "    ax2.plot(df.x, df.y - ypred, marker='.', lw=2)\n",
    "\n",
    "    summary.append({\n",
    "        \"method\": \"LINMIX\",\n",
    "        \"rmse\": rmse(df.y, ypred),\n",
    "        \"trmse\": rmse(y, slope*x+intercept),\n",
    "        \"corr\": slope_to_corr(df.x, df.y, slope)\n",
    "    })\n",
    "\n",
    "\n",
    "    ax1.plot(xrange, f(xrange, m, b), label=\"Truth\")\n",
    "    ax1.legend()\n",
    "    \n",
    "    plt.tight_layout(rect=[0, 0.03, 1, 0.95])\n",
    "    filename = f'figures/{title.replace(\" \", \"_\").lower()}.png'\n",
    "    plt.savefig(filename)\n",
    "\n",
    "    summary_df = pd.DataFrame(summary)\n",
    "    summary_df[\"rmse rank\"] = stats.rankdata(summary_df.rmse, method=\"ordinal\")\n",
    "    summary_df[\"trmse rank\"] = stats.rankdata(summary_df.trmse, method=\"ordinal\")\n",
    "    summary_df[\"corr rank\"] = stats.rankdata((summary_df.corr - rho_xy), method=\"ordinal\")\n",
    "    summary_df= summary_df.set_index(\"method\")\n",
    "    display(summary_df[[\"rmse\", \"rmse rank\", \"trmse\", \"trmse rank\", \"corr\"]])\n",
    "    return summary_df\n",
    "\n",
    "\n",
    "summary_plot(df1, s1_df, small_s1_df, title=\"Measurement Sample 1\");\n",
    "summary_plot(df2, s2_df, small_s2_df, title=\"Measurement Sample 2\");\n",
    "summary_plot(df3, s3_df, small_s3_df, title=\"Measurement Sample 3\");"
   ]
  }
 ],
 "metadata": {
  "kernelspec": {
   "display_name": "Python 3",
   "language": "python",
   "name": "python3"
  },
  "language_info": {
   "codemirror_mode": {
    "name": "ipython",
    "version": 3
   },
   "file_extension": ".py",
   "mimetype": "text/x-python",
   "name": "python",
   "nbconvert_exporter": "python",
   "pygments_lexer": "ipython3",
   "version": "3.8.2"
  }
 },
 "nbformat": 4,
 "nbformat_minor": 4
}
